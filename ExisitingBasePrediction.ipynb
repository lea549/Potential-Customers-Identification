{
 "cells": [
  {
   "cell_type": "raw",
   "metadata": {},
   "source": [
    "''''''''''''''''''''''''''''''''''''''''''''''''''''''''''''''''''''''''''''''''''\n",
    "# Analyzing the existing customer base of a Company and building a ML model to find out the potential customers (who will be actively trading) to offer new discounts\n",
    "\n",
    "# supervised classification \n",
    "\n",
    "'''''''''''''''''''''''''''''''''''''''''''''''''''''''''''''''''''''''''''''''''''"
   ]
  },
  {
   "cell_type": "markdown",
   "metadata": {},
   "source": [
    "## Importing required Libraries"
   ]
  },
  {
   "cell_type": "code",
   "execution_count": 1,
   "metadata": {},
   "outputs": [],
   "source": [
    "# basic python libraries\n",
    "import pandas as pd\n",
    "import numpy as np\n",
    "import matplotlib.pyplot as plt\n",
    "import seaborn as sns\n",
    "import time\n",
    "\n",
    "# data preprocessing\n",
    "from sklearn.preprocessing import StandardScaler\n",
    "\n",
    "# machine learning models\n",
    "from sklearn.linear_model import LogisticRegression\n",
    "from sklearn.tree import DecisionTreeClassifier\n",
    "from sklearn.ensemble import RandomForestClassifier \n",
    "\n",
    "# datasplitting\n",
    "from sklearn.model_selection import StratifiedShuffleSplit \n",
    "from sklearn.model_selection import train_test_split\n",
    "\n",
    "# hyperparameter tuning\n",
    "from sklearn.model_selection import GridSearchCV         \n",
    "\n",
    "# model evaluation metrics\n",
    "from sklearn.metrics import roc_auc_score, auc, roc_curve, plot_roc_curve, confusion_matrix, f1_score, accuracy_score"
   ]
  },
  {
   "cell_type": "markdown",
   "metadata": {},
   "source": [
    "## Loading the Data"
   ]
  },
  {
   "cell_type": "code",
   "execution_count": 2,
   "metadata": {},
   "outputs": [],
   "source": [
    "pd.set_option('display.max_rows',13)\n",
    "pd.set_option('display.max_columns',None)"
   ]
  },
  {
   "cell_type": "code",
   "execution_count": 3,
   "metadata": {},
   "outputs": [],
   "source": [
    "dataset=pd.read_csv(\"Existing_Base.csv\")"
   ]
  },
  {
   "cell_type": "code",
   "execution_count": 4,
   "metadata": {},
   "outputs": [
    {
     "data": {
      "text/html": [
       "<div>\n",
       "<style scoped>\n",
       "    .dataframe tbody tr th:only-of-type {\n",
       "        vertical-align: middle;\n",
       "    }\n",
       "\n",
       "    .dataframe tbody tr th {\n",
       "        vertical-align: top;\n",
       "    }\n",
       "\n",
       "    .dataframe thead th {\n",
       "        text-align: right;\n",
       "    }\n",
       "</style>\n",
       "<table border=\"1\" class=\"dataframe\">\n",
       "  <thead>\n",
       "    <tr style=\"text-align: right;\">\n",
       "      <th></th>\n",
       "      <th>REF_NO</th>\n",
       "      <th>children</th>\n",
       "      <th>age_band</th>\n",
       "      <th>status</th>\n",
       "      <th>occupation</th>\n",
       "      <th>occupation_partner</th>\n",
       "      <th>home_status</th>\n",
       "      <th>family_income</th>\n",
       "      <th>self_employed</th>\n",
       "      <th>self_employed_partner</th>\n",
       "      <th>year_last_moved</th>\n",
       "      <th>TVarea</th>\n",
       "      <th>post_code</th>\n",
       "      <th>post_area</th>\n",
       "      <th>Average Credit Card Transaction</th>\n",
       "      <th>Balance Transfer</th>\n",
       "      <th>Term Deposit</th>\n",
       "      <th>Life Insurance</th>\n",
       "      <th>Medical Insurance</th>\n",
       "      <th>Average A/C Balance</th>\n",
       "      <th>Personal Loan</th>\n",
       "      <th>Investment in Mutual Fund</th>\n",
       "      <th>Investment Tax Saving Bond</th>\n",
       "      <th>Home Loan</th>\n",
       "      <th>Online Purchase Amount</th>\n",
       "      <th>Revenue Grid</th>\n",
       "      <th>gender</th>\n",
       "      <th>region</th>\n",
       "      <th>Investment in Commudity</th>\n",
       "      <th>Investment in Equity</th>\n",
       "      <th>Investment in Derivative</th>\n",
       "      <th>Portfolio Balance</th>\n",
       "    </tr>\n",
       "  </thead>\n",
       "  <tbody>\n",
       "    <tr>\n",
       "      <th>0</th>\n",
       "      <td>1</td>\n",
       "      <td>Zero</td>\n",
       "      <td>51-55</td>\n",
       "      <td>Partner</td>\n",
       "      <td>Manual Worker</td>\n",
       "      <td>Secretarial/Admin</td>\n",
       "      <td>Own Home</td>\n",
       "      <td>&lt;17,500, &gt;=15,000</td>\n",
       "      <td>No</td>\n",
       "      <td>No</td>\n",
       "      <td>1972</td>\n",
       "      <td>HTV</td>\n",
       "      <td>NP4 9HS</td>\n",
       "      <td>NP4</td>\n",
       "      <td>148.44</td>\n",
       "      <td>142.95</td>\n",
       "      <td>0.00</td>\n",
       "      <td>81.96</td>\n",
       "      <td>0.00</td>\n",
       "      <td>29.99</td>\n",
       "      <td>0.00</td>\n",
       "      <td>61.95</td>\n",
       "      <td>19.99</td>\n",
       "      <td>0.00</td>\n",
       "      <td>0.00</td>\n",
       "      <td>1</td>\n",
       "      <td>Female</td>\n",
       "      <td>Wales</td>\n",
       "      <td>74.67</td>\n",
       "      <td>18.66</td>\n",
       "      <td>32.32</td>\n",
       "      <td>89.43</td>\n",
       "    </tr>\n",
       "    <tr>\n",
       "      <th>1</th>\n",
       "      <td>2</td>\n",
       "      <td>Zero</td>\n",
       "      <td>55-60</td>\n",
       "      <td>Single/Never Married</td>\n",
       "      <td>Retired</td>\n",
       "      <td>Retired</td>\n",
       "      <td>Own Home</td>\n",
       "      <td>&lt;27,500, &gt;=25,000</td>\n",
       "      <td>No</td>\n",
       "      <td>No</td>\n",
       "      <td>1998</td>\n",
       "      <td>Granada</td>\n",
       "      <td>M41 0QH</td>\n",
       "      <td>M41</td>\n",
       "      <td>0.00</td>\n",
       "      <td>74.98</td>\n",
       "      <td>0.00</td>\n",
       "      <td>25.99</td>\n",
       "      <td>0.00</td>\n",
       "      <td>0.00</td>\n",
       "      <td>0.00</td>\n",
       "      <td>0.00</td>\n",
       "      <td>0.00</td>\n",
       "      <td>0.00</td>\n",
       "      <td>0.00</td>\n",
       "      <td>2</td>\n",
       "      <td>Female</td>\n",
       "      <td>North West</td>\n",
       "      <td>20.19</td>\n",
       "      <td>0.00</td>\n",
       "      <td>4.33</td>\n",
       "      <td>22.78</td>\n",
       "    </tr>\n",
       "    <tr>\n",
       "      <th>2</th>\n",
       "      <td>3</td>\n",
       "      <td>Zero</td>\n",
       "      <td>26-30</td>\n",
       "      <td>Single/Never Married</td>\n",
       "      <td>Professional</td>\n",
       "      <td>Other</td>\n",
       "      <td>Own Home</td>\n",
       "      <td>&lt;30,000, &gt;=27,500</td>\n",
       "      <td>Yes</td>\n",
       "      <td>No</td>\n",
       "      <td>1996</td>\n",
       "      <td>Tyne Tees</td>\n",
       "      <td>NE30 1JZ</td>\n",
       "      <td>NE30</td>\n",
       "      <td>0.00</td>\n",
       "      <td>166.44</td>\n",
       "      <td>20.99</td>\n",
       "      <td>291.37</td>\n",
       "      <td>11.48</td>\n",
       "      <td>166.94</td>\n",
       "      <td>0.00</td>\n",
       "      <td>15.99</td>\n",
       "      <td>0.00</td>\n",
       "      <td>3.49</td>\n",
       "      <td>0.00</td>\n",
       "      <td>2</td>\n",
       "      <td>Male</td>\n",
       "      <td>North</td>\n",
       "      <td>98.06</td>\n",
       "      <td>31.07</td>\n",
       "      <td>80.96</td>\n",
       "      <td>171.78</td>\n",
       "    </tr>\n",
       "    <tr>\n",
       "      <th>3</th>\n",
       "      <td>5</td>\n",
       "      <td>Zero</td>\n",
       "      <td>18-21</td>\n",
       "      <td>Single/Never Married</td>\n",
       "      <td>Professional</td>\n",
       "      <td>Manual Worker</td>\n",
       "      <td>Own Home</td>\n",
       "      <td>&lt;15,000, &gt;=12,500</td>\n",
       "      <td>No</td>\n",
       "      <td>No</td>\n",
       "      <td>1997</td>\n",
       "      <td>Central</td>\n",
       "      <td>HR9 7RJ</td>\n",
       "      <td>HR9</td>\n",
       "      <td>0.00</td>\n",
       "      <td>0.00</td>\n",
       "      <td>0.00</td>\n",
       "      <td>20.49</td>\n",
       "      <td>0.00</td>\n",
       "      <td>39.46</td>\n",
       "      <td>0.00</td>\n",
       "      <td>45.44</td>\n",
       "      <td>0.00</td>\n",
       "      <td>0.00</td>\n",
       "      <td>0.00</td>\n",
       "      <td>2</td>\n",
       "      <td>Female</td>\n",
       "      <td>West Midlands</td>\n",
       "      <td>4.10</td>\n",
       "      <td>14.15</td>\n",
       "      <td>17.57</td>\n",
       "      <td>-41.70</td>\n",
       "    </tr>\n",
       "    <tr>\n",
       "      <th>4</th>\n",
       "      <td>6</td>\n",
       "      <td>Zero</td>\n",
       "      <td>45-50</td>\n",
       "      <td>Partner</td>\n",
       "      <td>Business Manager</td>\n",
       "      <td>Unknown</td>\n",
       "      <td>Own Home</td>\n",
       "      <td>&lt;30,000, &gt;=27,500</td>\n",
       "      <td>No</td>\n",
       "      <td>No</td>\n",
       "      <td>1995</td>\n",
       "      <td>Scottish TV</td>\n",
       "      <td>KA10 7LS</td>\n",
       "      <td>KA10</td>\n",
       "      <td>73.45</td>\n",
       "      <td>57.96</td>\n",
       "      <td>0.00</td>\n",
       "      <td>177.42</td>\n",
       "      <td>41.95</td>\n",
       "      <td>39.47</td>\n",
       "      <td>10.97</td>\n",
       "      <td>212.84</td>\n",
       "      <td>0.00</td>\n",
       "      <td>45.91</td>\n",
       "      <td>25.98</td>\n",
       "      <td>2</td>\n",
       "      <td>Female</td>\n",
       "      <td>Scotland</td>\n",
       "      <td>70.16</td>\n",
       "      <td>55.86</td>\n",
       "      <td>80.44</td>\n",
       "      <td>235.02</td>\n",
       "    </tr>\n",
       "    <tr>\n",
       "      <th>...</th>\n",
       "      <td>...</td>\n",
       "      <td>...</td>\n",
       "      <td>...</td>\n",
       "      <td>...</td>\n",
       "      <td>...</td>\n",
       "      <td>...</td>\n",
       "      <td>...</td>\n",
       "      <td>...</td>\n",
       "      <td>...</td>\n",
       "      <td>...</td>\n",
       "      <td>...</td>\n",
       "      <td>...</td>\n",
       "      <td>...</td>\n",
       "      <td>...</td>\n",
       "      <td>...</td>\n",
       "      <td>...</td>\n",
       "      <td>...</td>\n",
       "      <td>...</td>\n",
       "      <td>...</td>\n",
       "      <td>...</td>\n",
       "      <td>...</td>\n",
       "      <td>...</td>\n",
       "      <td>...</td>\n",
       "      <td>...</td>\n",
       "      <td>...</td>\n",
       "      <td>...</td>\n",
       "      <td>...</td>\n",
       "      <td>...</td>\n",
       "      <td>...</td>\n",
       "      <td>...</td>\n",
       "      <td>...</td>\n",
       "      <td>...</td>\n",
       "    </tr>\n",
       "    <tr>\n",
       "      <th>10150</th>\n",
       "      <td>11512</td>\n",
       "      <td>1</td>\n",
       "      <td>45-50</td>\n",
       "      <td>Partner</td>\n",
       "      <td>Secretarial/Admin</td>\n",
       "      <td>Manual Worker</td>\n",
       "      <td>Own Home</td>\n",
       "      <td>&lt;30,000, &gt;=27,500</td>\n",
       "      <td>No</td>\n",
       "      <td>No</td>\n",
       "      <td>1972</td>\n",
       "      <td>Carlton</td>\n",
       "      <td>SM4 5RF</td>\n",
       "      <td>SM4</td>\n",
       "      <td>0.00</td>\n",
       "      <td>0.00</td>\n",
       "      <td>0.00</td>\n",
       "      <td>29.97</td>\n",
       "      <td>6.49</td>\n",
       "      <td>0.00</td>\n",
       "      <td>8.99</td>\n",
       "      <td>7.49</td>\n",
       "      <td>4.49</td>\n",
       "      <td>0.00</td>\n",
       "      <td>0.00</td>\n",
       "      <td>2</td>\n",
       "      <td>Female</td>\n",
       "      <td>South East</td>\n",
       "      <td>7.29</td>\n",
       "      <td>3.50</td>\n",
       "      <td>9.57</td>\n",
       "      <td>10.23</td>\n",
       "    </tr>\n",
       "    <tr>\n",
       "      <th>10151</th>\n",
       "      <td>11513</td>\n",
       "      <td>Zero</td>\n",
       "      <td>45-50</td>\n",
       "      <td>Partner</td>\n",
       "      <td>Manual Worker</td>\n",
       "      <td>Manual Worker</td>\n",
       "      <td>Rent from Council/HA</td>\n",
       "      <td>&lt;25,000, &gt;=22,500</td>\n",
       "      <td>No</td>\n",
       "      <td>No</td>\n",
       "      <td>1988</td>\n",
       "      <td>Meridian</td>\n",
       "      <td>RG14 7PA</td>\n",
       "      <td>RG14</td>\n",
       "      <td>0.00</td>\n",
       "      <td>110.95</td>\n",
       "      <td>0.00</td>\n",
       "      <td>200.41</td>\n",
       "      <td>0.00</td>\n",
       "      <td>2.99</td>\n",
       "      <td>0.00</td>\n",
       "      <td>14.99</td>\n",
       "      <td>0.00</td>\n",
       "      <td>0.00</td>\n",
       "      <td>0.00</td>\n",
       "      <td>2</td>\n",
       "      <td>Female</td>\n",
       "      <td>South East</td>\n",
       "      <td>62.27</td>\n",
       "      <td>3.00</td>\n",
       "      <td>36.40</td>\n",
       "      <td>102.62</td>\n",
       "    </tr>\n",
       "    <tr>\n",
       "      <th>10152</th>\n",
       "      <td>11514</td>\n",
       "      <td>2</td>\n",
       "      <td>41-45</td>\n",
       "      <td>Partner</td>\n",
       "      <td>Housewife</td>\n",
       "      <td>Professional</td>\n",
       "      <td>Own Home</td>\n",
       "      <td>&gt;=35,000</td>\n",
       "      <td>No</td>\n",
       "      <td>No</td>\n",
       "      <td>1992</td>\n",
       "      <td>Central</td>\n",
       "      <td>OX15 0PU</td>\n",
       "      <td>OX15</td>\n",
       "      <td>124.93</td>\n",
       "      <td>0.00</td>\n",
       "      <td>54.48</td>\n",
       "      <td>0.00</td>\n",
       "      <td>84.42</td>\n",
       "      <td>0.00</td>\n",
       "      <td>0.00</td>\n",
       "      <td>0.00</td>\n",
       "      <td>0.00</td>\n",
       "      <td>0.00</td>\n",
       "      <td>0.00</td>\n",
       "      <td>2</td>\n",
       "      <td>Female</td>\n",
       "      <td>South East</td>\n",
       "      <td>52.77</td>\n",
       "      <td>0.00</td>\n",
       "      <td>14.07</td>\n",
       "      <td>76.18</td>\n",
       "    </tr>\n",
       "    <tr>\n",
       "      <th>10153</th>\n",
       "      <td>11516</td>\n",
       "      <td>Zero</td>\n",
       "      <td>51-55</td>\n",
       "      <td>Partner</td>\n",
       "      <td>Other</td>\n",
       "      <td>Manual Worker</td>\n",
       "      <td>Own Home</td>\n",
       "      <td>&lt;10,000, &gt;= 8,000</td>\n",
       "      <td>No</td>\n",
       "      <td>Yes</td>\n",
       "      <td>1970</td>\n",
       "      <td>Carlton</td>\n",
       "      <td>CM15 0LU</td>\n",
       "      <td>CM15</td>\n",
       "      <td>0.00</td>\n",
       "      <td>35.98</td>\n",
       "      <td>0.00</td>\n",
       "      <td>0.00</td>\n",
       "      <td>0.00</td>\n",
       "      <td>0.00</td>\n",
       "      <td>0.00</td>\n",
       "      <td>9.98</td>\n",
       "      <td>0.00</td>\n",
       "      <td>7.98</td>\n",
       "      <td>0.00</td>\n",
       "      <td>2</td>\n",
       "      <td>Female</td>\n",
       "      <td>South East</td>\n",
       "      <td>7.20</td>\n",
       "      <td>2.99</td>\n",
       "      <td>1.66</td>\n",
       "      <td>4.79</td>\n",
       "    </tr>\n",
       "    <tr>\n",
       "      <th>10154</th>\n",
       "      <td>11518</td>\n",
       "      <td>1</td>\n",
       "      <td>31-35</td>\n",
       "      <td>Partner</td>\n",
       "      <td>Unknown</td>\n",
       "      <td>Housewife</td>\n",
       "      <td>Own Home</td>\n",
       "      <td>&lt;27,500, &gt;=25,000</td>\n",
       "      <td>No</td>\n",
       "      <td>No</td>\n",
       "      <td>1996</td>\n",
       "      <td>HTV</td>\n",
       "      <td>SA70 7LW</td>\n",
       "      <td>SA70</td>\n",
       "      <td>0.00</td>\n",
       "      <td>40.46</td>\n",
       "      <td>0.00</td>\n",
       "      <td>310.24</td>\n",
       "      <td>9.98</td>\n",
       "      <td>105.96</td>\n",
       "      <td>106.94</td>\n",
       "      <td>43.46</td>\n",
       "      <td>19.49</td>\n",
       "      <td>0.00</td>\n",
       "      <td>0.00</td>\n",
       "      <td>2</td>\n",
       "      <td>Female</td>\n",
       "      <td>Wales</td>\n",
       "      <td>72.14</td>\n",
       "      <td>45.98</td>\n",
       "      <td>99.35</td>\n",
       "      <td>227.12</td>\n",
       "    </tr>\n",
       "  </tbody>\n",
       "</table>\n",
       "<p>10155 rows × 32 columns</p>\n",
       "</div>"
      ],
      "text/plain": [
       "       REF_NO children age_band                status         occupation  \\\n",
       "0           1     Zero    51-55               Partner      Manual Worker   \n",
       "1           2     Zero    55-60  Single/Never Married            Retired   \n",
       "2           3     Zero    26-30  Single/Never Married       Professional   \n",
       "3           5     Zero    18-21  Single/Never Married       Professional   \n",
       "4           6     Zero    45-50               Partner   Business Manager   \n",
       "...       ...      ...      ...                   ...                ...   \n",
       "10150   11512        1    45-50               Partner  Secretarial/Admin   \n",
       "10151   11513     Zero    45-50               Partner      Manual Worker   \n",
       "10152   11514        2    41-45               Partner          Housewife   \n",
       "10153   11516     Zero    51-55               Partner              Other   \n",
       "10154   11518        1    31-35               Partner            Unknown   \n",
       "\n",
       "      occupation_partner           home_status      family_income  \\\n",
       "0      Secretarial/Admin              Own Home  <17,500, >=15,000   \n",
       "1                Retired              Own Home  <27,500, >=25,000   \n",
       "2                  Other              Own Home  <30,000, >=27,500   \n",
       "3          Manual Worker              Own Home  <15,000, >=12,500   \n",
       "4                Unknown              Own Home  <30,000, >=27,500   \n",
       "...                  ...                   ...                ...   \n",
       "10150      Manual Worker              Own Home  <30,000, >=27,500   \n",
       "10151      Manual Worker  Rent from Council/HA  <25,000, >=22,500   \n",
       "10152       Professional              Own Home           >=35,000   \n",
       "10153      Manual Worker              Own Home  <10,000, >= 8,000   \n",
       "10154          Housewife              Own Home  <27,500, >=25,000   \n",
       "\n",
       "      self_employed self_employed_partner  year_last_moved       TVarea  \\\n",
       "0                No                    No             1972          HTV   \n",
       "1                No                    No             1998      Granada   \n",
       "2               Yes                    No             1996    Tyne Tees   \n",
       "3                No                    No             1997      Central   \n",
       "4                No                    No             1995  Scottish TV   \n",
       "...             ...                   ...              ...          ...   \n",
       "10150            No                    No             1972      Carlton   \n",
       "10151            No                    No             1988     Meridian   \n",
       "10152            No                    No             1992      Central   \n",
       "10153            No                   Yes             1970      Carlton   \n",
       "10154            No                    No             1996          HTV   \n",
       "\n",
       "      post_code post_area  Average Credit Card Transaction  Balance Transfer  \\\n",
       "0       NP4 9HS       NP4                           148.44            142.95   \n",
       "1       M41 0QH       M41                             0.00             74.98   \n",
       "2      NE30 1JZ      NE30                             0.00            166.44   \n",
       "3       HR9 7RJ       HR9                             0.00              0.00   \n",
       "4      KA10 7LS      KA10                            73.45             57.96   \n",
       "...         ...       ...                              ...               ...   \n",
       "10150   SM4 5RF       SM4                             0.00              0.00   \n",
       "10151  RG14 7PA      RG14                             0.00            110.95   \n",
       "10152  OX15 0PU      OX15                           124.93              0.00   \n",
       "10153  CM15 0LU      CM15                             0.00             35.98   \n",
       "10154  SA70 7LW      SA70                             0.00             40.46   \n",
       "\n",
       "       Term Deposit  Life Insurance  Medical Insurance  Average A/C Balance  \\\n",
       "0              0.00           81.96               0.00                29.99   \n",
       "1              0.00           25.99               0.00                 0.00   \n",
       "2             20.99          291.37              11.48               166.94   \n",
       "3              0.00           20.49               0.00                39.46   \n",
       "4              0.00          177.42              41.95                39.47   \n",
       "...             ...             ...                ...                  ...   \n",
       "10150          0.00           29.97               6.49                 0.00   \n",
       "10151          0.00          200.41               0.00                 2.99   \n",
       "10152         54.48            0.00              84.42                 0.00   \n",
       "10153          0.00            0.00               0.00                 0.00   \n",
       "10154          0.00          310.24               9.98               105.96   \n",
       "\n",
       "       Personal Loan  Investment in Mutual Fund  Investment Tax Saving Bond  \\\n",
       "0               0.00                      61.95                       19.99   \n",
       "1               0.00                       0.00                        0.00   \n",
       "2               0.00                      15.99                        0.00   \n",
       "3               0.00                      45.44                        0.00   \n",
       "4              10.97                     212.84                        0.00   \n",
       "...              ...                        ...                         ...   \n",
       "10150           8.99                       7.49                        4.49   \n",
       "10151           0.00                      14.99                        0.00   \n",
       "10152           0.00                       0.00                        0.00   \n",
       "10153           0.00                       9.98                        0.00   \n",
       "10154         106.94                      43.46                       19.49   \n",
       "\n",
       "       Home Loan  Online Purchase Amount  Revenue Grid  gender         region  \\\n",
       "0           0.00                    0.00             1  Female          Wales   \n",
       "1           0.00                    0.00             2  Female     North West   \n",
       "2           3.49                    0.00             2    Male          North   \n",
       "3           0.00                    0.00             2  Female  West Midlands   \n",
       "4          45.91                   25.98             2  Female       Scotland   \n",
       "...          ...                     ...           ...     ...            ...   \n",
       "10150       0.00                    0.00             2  Female     South East   \n",
       "10151       0.00                    0.00             2  Female     South East   \n",
       "10152       0.00                    0.00             2  Female     South East   \n",
       "10153       7.98                    0.00             2  Female     South East   \n",
       "10154       0.00                    0.00             2  Female          Wales   \n",
       "\n",
       "       Investment in Commudity  Investment in Equity  \\\n",
       "0                        74.67                 18.66   \n",
       "1                        20.19                  0.00   \n",
       "2                        98.06                 31.07   \n",
       "3                         4.10                 14.15   \n",
       "4                        70.16                 55.86   \n",
       "...                        ...                   ...   \n",
       "10150                     7.29                  3.50   \n",
       "10151                    62.27                  3.00   \n",
       "10152                    52.77                  0.00   \n",
       "10153                     7.20                  2.99   \n",
       "10154                    72.14                 45.98   \n",
       "\n",
       "       Investment in Derivative  Portfolio Balance  \n",
       "0                         32.32              89.43  \n",
       "1                          4.33              22.78  \n",
       "2                         80.96             171.78  \n",
       "3                         17.57             -41.70  \n",
       "4                         80.44             235.02  \n",
       "...                         ...                ...  \n",
       "10150                      9.57              10.23  \n",
       "10151                     36.40             102.62  \n",
       "10152                     14.07              76.18  \n",
       "10153                      1.66               4.79  \n",
       "10154                     99.35             227.12  \n",
       "\n",
       "[10155 rows x 32 columns]"
      ]
     },
     "execution_count": 4,
     "metadata": {},
     "output_type": "execute_result"
    }
   ],
   "source": [
    "dataset  # 10155 rows and 32 columns"
   ]
  },
  {
   "cell_type": "markdown",
   "metadata": {},
   "source": [
    "## Exploratory Data Analysis and Data Preprocessing"
   ]
  },
  {
   "cell_type": "code",
   "execution_count": 5,
   "metadata": {},
   "outputs": [
    {
     "data": {
      "text/html": [
       "<div>\n",
       "<style scoped>\n",
       "    .dataframe tbody tr th:only-of-type {\n",
       "        vertical-align: middle;\n",
       "    }\n",
       "\n",
       "    .dataframe tbody tr th {\n",
       "        vertical-align: top;\n",
       "    }\n",
       "\n",
       "    .dataframe thead th {\n",
       "        text-align: right;\n",
       "    }\n",
       "</style>\n",
       "<table border=\"1\" class=\"dataframe\">\n",
       "  <thead>\n",
       "    <tr style=\"text-align: right;\">\n",
       "      <th></th>\n",
       "      <th>REF_NO</th>\n",
       "      <th>year_last_moved</th>\n",
       "      <th>Average Credit Card Transaction</th>\n",
       "      <th>Balance Transfer</th>\n",
       "      <th>Term Deposit</th>\n",
       "      <th>Life Insurance</th>\n",
       "      <th>Medical Insurance</th>\n",
       "      <th>Average A/C Balance</th>\n",
       "      <th>Personal Loan</th>\n",
       "      <th>Investment in Mutual Fund</th>\n",
       "      <th>Investment Tax Saving Bond</th>\n",
       "      <th>Home Loan</th>\n",
       "      <th>Online Purchase Amount</th>\n",
       "      <th>Revenue Grid</th>\n",
       "      <th>Investment in Commudity</th>\n",
       "      <th>Investment in Equity</th>\n",
       "      <th>Investment in Derivative</th>\n",
       "      <th>Portfolio Balance</th>\n",
       "    </tr>\n",
       "  </thead>\n",
       "  <tbody>\n",
       "    <tr>\n",
       "      <th>count</th>\n",
       "      <td>10155.000000</td>\n",
       "      <td>10155.000000</td>\n",
       "      <td>10155.000000</td>\n",
       "      <td>10155.000000</td>\n",
       "      <td>10155.000000</td>\n",
       "      <td>10155.000000</td>\n",
       "      <td>10155.000000</td>\n",
       "      <td>10155.000000</td>\n",
       "      <td>10155.000000</td>\n",
       "      <td>10155.000000</td>\n",
       "      <td>10155.000000</td>\n",
       "      <td>10155.000000</td>\n",
       "      <td>10155.000000</td>\n",
       "      <td>10155.000000</td>\n",
       "      <td>10155.000000</td>\n",
       "      <td>10155.000000</td>\n",
       "      <td>10155.000000</td>\n",
       "      <td>10155.000000</td>\n",
       "    </tr>\n",
       "    <tr>\n",
       "      <th>mean</th>\n",
       "      <td>5770.830822</td>\n",
       "      <td>1968.376366</td>\n",
       "      <td>23.441757</td>\n",
       "      <td>46.417760</td>\n",
       "      <td>27.579851</td>\n",
       "      <td>66.242131</td>\n",
       "      <td>19.142050</td>\n",
       "      <td>32.084965</td>\n",
       "      <td>26.006003</td>\n",
       "      <td>42.339698</td>\n",
       "      <td>6.112071</td>\n",
       "      <td>4.482002</td>\n",
       "      <td>19.162772</td>\n",
       "      <td>1.893058</td>\n",
       "      <td>36.564886</td>\n",
       "      <td>21.698694</td>\n",
       "      <td>31.988647</td>\n",
       "      <td>90.460237</td>\n",
       "    </tr>\n",
       "    <tr>\n",
       "      <th>std</th>\n",
       "      <td>3324.837813</td>\n",
       "      <td>180.202242</td>\n",
       "      <td>50.872127</td>\n",
       "      <td>78.477609</td>\n",
       "      <td>53.952550</td>\n",
       "      <td>95.545316</td>\n",
       "      <td>32.451856</td>\n",
       "      <td>45.486614</td>\n",
       "      <td>84.275743</td>\n",
       "      <td>63.898899</td>\n",
       "      <td>12.833675</td>\n",
       "      <td>9.982641</td>\n",
       "      <td>89.666263</td>\n",
       "      <td>0.309055</td>\n",
       "      <td>42.270530</td>\n",
       "      <td>31.893841</td>\n",
       "      <td>39.106347</td>\n",
       "      <td>107.265475</td>\n",
       "    </tr>\n",
       "    <tr>\n",
       "      <th>min</th>\n",
       "      <td>1.000000</td>\n",
       "      <td>0.000000</td>\n",
       "      <td>0.000000</td>\n",
       "      <td>0.000000</td>\n",
       "      <td>0.000000</td>\n",
       "      <td>0.000000</td>\n",
       "      <td>0.000000</td>\n",
       "      <td>0.000000</td>\n",
       "      <td>0.000000</td>\n",
       "      <td>0.000000</td>\n",
       "      <td>0.000000</td>\n",
       "      <td>0.000000</td>\n",
       "      <td>0.000000</td>\n",
       "      <td>1.000000</td>\n",
       "      <td>0.000000</td>\n",
       "      <td>0.000000</td>\n",
       "      <td>0.000000</td>\n",
       "      <td>-78.430000</td>\n",
       "    </tr>\n",
       "    <tr>\n",
       "      <th>25%</th>\n",
       "      <td>2903.500000</td>\n",
       "      <td>1978.000000</td>\n",
       "      <td>0.000000</td>\n",
       "      <td>0.000000</td>\n",
       "      <td>0.000000</td>\n",
       "      <td>0.000000</td>\n",
       "      <td>0.000000</td>\n",
       "      <td>0.000000</td>\n",
       "      <td>0.000000</td>\n",
       "      <td>0.000000</td>\n",
       "      <td>0.000000</td>\n",
       "      <td>0.000000</td>\n",
       "      <td>0.000000</td>\n",
       "      <td>2.000000</td>\n",
       "      <td>8.230000</td>\n",
       "      <td>4.670000</td>\n",
       "      <td>8.740000</td>\n",
       "      <td>26.605000</td>\n",
       "    </tr>\n",
       "    <tr>\n",
       "      <th>50%</th>\n",
       "      <td>5770.000000</td>\n",
       "      <td>1988.000000</td>\n",
       "      <td>0.000000</td>\n",
       "      <td>17.960000</td>\n",
       "      <td>0.000000</td>\n",
       "      <td>31.980000</td>\n",
       "      <td>0.510000</td>\n",
       "      <td>14.990000</td>\n",
       "      <td>0.000000</td>\n",
       "      <td>23.480000</td>\n",
       "      <td>0.000000</td>\n",
       "      <td>0.000000</td>\n",
       "      <td>0.000000</td>\n",
       "      <td>2.000000</td>\n",
       "      <td>23.980000</td>\n",
       "      <td>12.980000</td>\n",
       "      <td>21.340000</td>\n",
       "      <td>66.200000</td>\n",
       "    </tr>\n",
       "    <tr>\n",
       "      <th>75%</th>\n",
       "      <td>8665.500000</td>\n",
       "      <td>1994.000000</td>\n",
       "      <td>23.980000</td>\n",
       "      <td>65.385000</td>\n",
       "      <td>34.990000</td>\n",
       "      <td>94.390000</td>\n",
       "      <td>27.470000</td>\n",
       "      <td>46.480000</td>\n",
       "      <td>21.480000</td>\n",
       "      <td>59.555000</td>\n",
       "      <td>5.975000</td>\n",
       "      <td>4.490000</td>\n",
       "      <td>7.980000</td>\n",
       "      <td>2.000000</td>\n",
       "      <td>50.790000</td>\n",
       "      <td>28.300000</td>\n",
       "      <td>42.980000</td>\n",
       "      <td>125.935000</td>\n",
       "    </tr>\n",
       "    <tr>\n",
       "      <th>max</th>\n",
       "      <td>11518.000000</td>\n",
       "      <td>1999.000000</td>\n",
       "      <td>662.260000</td>\n",
       "      <td>2951.760000</td>\n",
       "      <td>784.820000</td>\n",
       "      <td>2930.410000</td>\n",
       "      <td>591.040000</td>\n",
       "      <td>626.240000</td>\n",
       "      <td>4905.930000</td>\n",
       "      <td>2561.270000</td>\n",
       "      <td>156.870000</td>\n",
       "      <td>162.350000</td>\n",
       "      <td>4306.420000</td>\n",
       "      <td>2.000000</td>\n",
       "      <td>1231.090000</td>\n",
       "      <td>1279.100000</td>\n",
       "      <td>1771.160000</td>\n",
       "      <td>4283.560000</td>\n",
       "    </tr>\n",
       "  </tbody>\n",
       "</table>\n",
       "</div>"
      ],
      "text/plain": [
       "             REF_NO  year_last_moved  Average Credit Card Transaction  \\\n",
       "count  10155.000000     10155.000000                     10155.000000   \n",
       "mean    5770.830822      1968.376366                        23.441757   \n",
       "std     3324.837813       180.202242                        50.872127   \n",
       "min        1.000000         0.000000                         0.000000   \n",
       "25%     2903.500000      1978.000000                         0.000000   \n",
       "50%     5770.000000      1988.000000                         0.000000   \n",
       "75%     8665.500000      1994.000000                        23.980000   \n",
       "max    11518.000000      1999.000000                       662.260000   \n",
       "\n",
       "       Balance Transfer  Term Deposit  Life Insurance  Medical Insurance  \\\n",
       "count      10155.000000  10155.000000    10155.000000       10155.000000   \n",
       "mean          46.417760     27.579851       66.242131          19.142050   \n",
       "std           78.477609     53.952550       95.545316          32.451856   \n",
       "min            0.000000      0.000000        0.000000           0.000000   \n",
       "25%            0.000000      0.000000        0.000000           0.000000   \n",
       "50%           17.960000      0.000000       31.980000           0.510000   \n",
       "75%           65.385000     34.990000       94.390000          27.470000   \n",
       "max         2951.760000    784.820000     2930.410000         591.040000   \n",
       "\n",
       "       Average A/C Balance  Personal Loan  Investment in Mutual Fund  \\\n",
       "count         10155.000000   10155.000000               10155.000000   \n",
       "mean             32.084965      26.006003                  42.339698   \n",
       "std              45.486614      84.275743                  63.898899   \n",
       "min               0.000000       0.000000                   0.000000   \n",
       "25%               0.000000       0.000000                   0.000000   \n",
       "50%              14.990000       0.000000                  23.480000   \n",
       "75%              46.480000      21.480000                  59.555000   \n",
       "max             626.240000    4905.930000                2561.270000   \n",
       "\n",
       "       Investment Tax Saving Bond     Home Loan  Online Purchase Amount  \\\n",
       "count                10155.000000  10155.000000            10155.000000   \n",
       "mean                     6.112071      4.482002               19.162772   \n",
       "std                     12.833675      9.982641               89.666263   \n",
       "min                      0.000000      0.000000                0.000000   \n",
       "25%                      0.000000      0.000000                0.000000   \n",
       "50%                      0.000000      0.000000                0.000000   \n",
       "75%                      5.975000      4.490000                7.980000   \n",
       "max                    156.870000    162.350000             4306.420000   \n",
       "\n",
       "       Revenue Grid  Investment in Commudity  Investment in Equity  \\\n",
       "count  10155.000000             10155.000000          10155.000000   \n",
       "mean       1.893058                36.564886             21.698694   \n",
       "std        0.309055                42.270530             31.893841   \n",
       "min        1.000000                 0.000000              0.000000   \n",
       "25%        2.000000                 8.230000              4.670000   \n",
       "50%        2.000000                23.980000             12.980000   \n",
       "75%        2.000000                50.790000             28.300000   \n",
       "max        2.000000              1231.090000           1279.100000   \n",
       "\n",
       "       Investment in Derivative  Portfolio Balance  \n",
       "count              10155.000000       10155.000000  \n",
       "mean                  31.988647          90.460237  \n",
       "std                   39.106347         107.265475  \n",
       "min                    0.000000         -78.430000  \n",
       "25%                    8.740000          26.605000  \n",
       "50%                   21.340000          66.200000  \n",
       "75%                   42.980000         125.935000  \n",
       "max                 1771.160000        4283.560000  "
      ]
     },
     "execution_count": 5,
     "metadata": {},
     "output_type": "execute_result"
    }
   ],
   "source": [
    "dataset.describe()"
   ]
  },
  {
   "cell_type": "code",
   "execution_count": 6,
   "metadata": {},
   "outputs": [
    {
     "name": "stdout",
     "output_type": "stream",
     "text": [
      "<class 'pandas.core.frame.DataFrame'>\n",
      "RangeIndex: 10155 entries, 0 to 10154\n",
      "Data columns (total 32 columns):\n",
      " #   Column                           Non-Null Count  Dtype  \n",
      "---  ------                           --------------  -----  \n",
      " 0   REF_NO                           10155 non-null  int64  \n",
      " 1   children                         10155 non-null  object \n",
      " 2   age_band                         10155 non-null  object \n",
      " 3   status                           10155 non-null  object \n",
      " 4   occupation                       10155 non-null  object \n",
      " 5   occupation_partner               10155 non-null  object \n",
      " 6   home_status                      10155 non-null  object \n",
      " 7   family_income                    10155 non-null  object \n",
      " 8   self_employed                    10155 non-null  object \n",
      " 9   self_employed_partner            10155 non-null  object \n",
      " 10  year_last_moved                  10155 non-null  int64  \n",
      " 11  TVarea                           10155 non-null  object \n",
      " 12  post_code                        10155 non-null  object \n",
      " 13  post_area                        10155 non-null  object \n",
      " 14  Average Credit Card Transaction  10155 non-null  float64\n",
      " 15  Balance Transfer                 10155 non-null  float64\n",
      " 16  Term Deposit                     10155 non-null  float64\n",
      " 17  Life Insurance                   10155 non-null  float64\n",
      " 18  Medical Insurance                10155 non-null  float64\n",
      " 19  Average A/C Balance              10155 non-null  float64\n",
      " 20  Personal Loan                    10155 non-null  float64\n",
      " 21  Investment in Mutual Fund        10155 non-null  float64\n",
      " 22  Investment Tax Saving Bond       10155 non-null  float64\n",
      " 23  Home Loan                        10155 non-null  float64\n",
      " 24  Online Purchase Amount           10155 non-null  float64\n",
      " 25  Revenue Grid                     10155 non-null  int64  \n",
      " 26  gender                           10155 non-null  object \n",
      " 27  region                           10155 non-null  object \n",
      " 28  Investment in Commudity          10155 non-null  float64\n",
      " 29  Investment in Equity             10155 non-null  float64\n",
      " 30  Investment in Derivative         10155 non-null  float64\n",
      " 31  Portfolio Balance                10155 non-null  float64\n",
      "dtypes: float64(15), int64(3), object(14)\n",
      "memory usage: 2.5+ MB\n"
     ]
    }
   ],
   "source": [
    "dataset.info()\n",
    "\n",
    "# INSIGHTS\n",
    "# csv file size is 1.86 MB; Python memory usage is 2.5+ MB\n",
    "# no missing values in the dataset"
   ]
  },
  {
   "cell_type": "markdown",
   "metadata": {},
   "source": [
    "### Target column"
   ]
  },
  {
   "cell_type": "code",
   "execution_count": 7,
   "metadata": {},
   "outputs": [
    {
     "data": {
      "text/plain": [
       "array([1, 2], dtype=int64)"
      ]
     },
     "execution_count": 7,
     "metadata": {},
     "output_type": "execute_result"
    }
   ],
   "source": [
    "dataset[\"Revenue Grid\"].unique() # This is the target column which our model has to predict"
   ]
  },
  {
   "cell_type": "code",
   "execution_count": 8,
   "metadata": {},
   "outputs": [],
   "source": [
    "## Preprocessing step 1\n",
    "\n",
    "# Target column has values - 1 (eligible for discount) and 2 (not eligible for discount) \n",
    "# Since its a classification problem, converting target column into 0s and 1s \n",
    "dataset.loc[dataset['Revenue Grid']==2,'Revenue Grid'] = 0  # this replaces all the 2's (not eligible) with 0"
   ]
  },
  {
   "cell_type": "code",
   "execution_count": 9,
   "metadata": {},
   "outputs": [
    {
     "data": {
      "text/plain": [
       "0    9069\n",
       "1    1086\n",
       "Name: Revenue Grid, dtype: int64"
      ]
     },
     "execution_count": 9,
     "metadata": {},
     "output_type": "execute_result"
    }
   ],
   "source": [
    "dataset[\"Revenue Grid\"].value_counts()"
   ]
  },
  {
   "cell_type": "code",
   "execution_count": 10,
   "metadata": {},
   "outputs": [
    {
     "data": {
      "text/plain": [
       "0    0.893058\n",
       "1    0.106942\n",
       "Name: Revenue Grid, dtype: float64"
      ]
     },
     "execution_count": 10,
     "metadata": {},
     "output_type": "execute_result"
    }
   ],
   "source": [
    "dataset[\"Revenue Grid\"].value_counts(normalize=True)"
   ]
  },
  {
   "cell_type": "code",
   "execution_count": 11,
   "metadata": {},
   "outputs": [
    {
     "data": {
      "text/plain": [
       "0.1069423929098966"
      ]
     },
     "execution_count": 11,
     "metadata": {},
     "output_type": "execute_result"
    }
   ],
   "source": [
    "np.mean(dataset[\"Revenue Grid\"])"
   ]
  },
  {
   "cell_type": "markdown",
   "metadata": {},
   "source": [
    "### Analysing the numeric columns in the datatset"
   ]
  },
  {
   "cell_type": "code",
   "execution_count": 12,
   "metadata": {},
   "outputs": [
    {
     "data": {
      "text/plain": [
       "Index(['REF_NO', 'year_last_moved', 'Average Credit Card Transaction',\n",
       "       'Balance Transfer', 'Term Deposit', 'Life Insurance',\n",
       "       'Medical Insurance', 'Average A/C Balance', 'Personal Loan',\n",
       "       'Investment in Mutual Fund', 'Investment Tax Saving Bond', 'Home Loan',\n",
       "       'Online Purchase Amount', 'Revenue Grid', 'Investment in Commudity',\n",
       "       'Investment in Equity', 'Investment in Derivative',\n",
       "       'Portfolio Balance'],\n",
       "      dtype='object')"
      ]
     },
     "execution_count": 12,
     "metadata": {},
     "output_type": "execute_result"
    }
   ],
   "source": [
    "numeric_columns=dataset.select_dtypes(np.number).columns\n",
    "numeric_columns"
   ]
  },
  {
   "cell_type": "code",
   "execution_count": 13,
   "metadata": {},
   "outputs": [
    {
     "data": {
      "text/plain": [
       "18"
      ]
     },
     "execution_count": 13,
     "metadata": {},
     "output_type": "execute_result"
    }
   ],
   "source": [
    "len(numeric_columns) # we have 18 numeric columns"
   ]
  },
  {
   "cell_type": "code",
   "execution_count": 14,
   "metadata": {},
   "outputs": [
    {
     "data": {
      "text/plain": [
       "RangeIndex(start=0, stop=10155, step=1)"
      ]
     },
     "execution_count": 14,
     "metadata": {},
     "output_type": "execute_result"
    }
   ],
   "source": [
    "dataset.index  # x axis for the scatter plot below"
   ]
  },
  {
   "cell_type": "code",
   "execution_count": 15,
   "metadata": {},
   "outputs": [
    {
     "data": {
      "image/png": "[encoded data removed]",
      "text/plain": [
       "<Figure size 1296x1296 with 18 Axes>"
      ]
     },
     "metadata": {
      "needs_background": "light"
     },
     "output_type": "display_data"
    }
   ],
   "source": [
    "no_of_rows=6; no_of_cols = 3\n",
    "i=0\n",
    "\n",
    "fig,ax=plt.subplots(no_of_rows, no_of_cols,figsize = (18,18))\n",
    "for row in range(no_of_rows):\n",
    "    for col in range(no_of_cols):\n",
    "        ax[row][col].scatter(dataset.index,dataset.loc[:,numeric_columns[i]])\n",
    "        ax[row][col].set_ylabel(numeric_columns[i])\n",
    "        i=i+1\n",
    "        \n",
    "# INSIGHTS\n",
    "# REF_NO is same as index, adding no value to prediction; this column can be dropped\n",
    "# year_last_moved has some rows as 0\n",
    "# There is one outlier in Balance Transfer, Life Insurance, Personal Loan, Investment in Mutual Fund, Investment in Commudity, \n",
    "   # Investment in Equity, Investment in Derivative, Portfolio Balance columns, needs to check if this is the same customer in \n",
    "   # all these cases.\n",
    "# Capping could be done to reduce the impact of outliers.\n",
    "# Scaling has to be done before passing the data to model."
   ]
  },
  {
   "cell_type": "code",
   "execution_count": 16,
   "metadata": {},
   "outputs": [],
   "source": [
    "## Preprocessing step 2\n",
    "\n",
    "# taking dataset_copy as a backup of the dataset\n",
    "dataset_copy=dataset.copy()  # deep=True by default"
   ]
  },
  {
   "cell_type": "code",
   "execution_count": 17,
   "metadata": {},
   "outputs": [
    {
     "data": {
      "text/plain": [
       "(10155, 32)"
      ]
     },
     "execution_count": 17,
     "metadata": {},
     "output_type": "execute_result"
    }
   ],
   "source": [
    "dataset_copy.shape"
   ]
  },
  {
   "cell_type": "code",
   "execution_count": 18,
   "metadata": {},
   "outputs": [],
   "source": [
    "## Preprocessing step 3\n",
    "\n",
    "# removing REF_NO column\n",
    "dataset.drop(['REF_NO'],axis=1,inplace=True)  "
   ]
  },
  {
   "cell_type": "code",
   "execution_count": 19,
   "metadata": {},
   "outputs": [
    {
     "data": {
      "text/plain": [
       "(10155, 31)"
      ]
     },
     "execution_count": 19,
     "metadata": {},
     "output_type": "execute_result"
    }
   ],
   "source": [
    "dataset.shape  # one column removed"
   ]
  },
  {
   "cell_type": "code",
   "execution_count": 20,
   "metadata": {},
   "outputs": [
    {
     "name": "stdout",
     "output_type": "stream",
     "text": [
      "95\n"
     ]
    }
   ],
   "source": [
    "# Analyze the year_last_moved column whether it can be dropped\n",
    "print(dataset.year_last_moved.nunique())"
   ]
  },
  {
   "cell_type": "code",
   "execution_count": 21,
   "metadata": {},
   "outputs": [
    {
     "data": {
      "text/plain": [
       "0    80\n",
       "1     4\n",
       "Name: Revenue Grid, dtype: int64"
      ]
     },
     "execution_count": 21,
     "metadata": {},
     "output_type": "execute_result"
    }
   ],
   "source": [
    "# only 84 out of 10155 rows have year_last_moved=0\n",
    "dataset[dataset.year_last_moved==0]['Revenue Grid'].value_counts()"
   ]
  },
  {
   "cell_type": "code",
   "execution_count": 22,
   "metadata": {},
   "outputs": [
    {
     "data": {
      "text/plain": [
       "0    0.952381\n",
       "1    0.047619\n",
       "Name: Revenue Grid, dtype: float64"
      ]
     },
     "execution_count": 22,
     "metadata": {},
     "output_type": "execute_result"
    }
   ],
   "source": [
    "# Revenue Grid distribution on year_last_moved==0 columns \n",
    "dataset[dataset.year_last_moved==0]['Revenue Grid'].value_counts(normalize=True) "
   ]
  },
  {
   "cell_type": "code",
   "execution_count": 23,
   "metadata": {},
   "outputs": [
    {
     "data": {
      "text/plain": [
       "0    0.892563\n",
       "1    0.107437\n",
       "Name: Revenue Grid, dtype: float64"
      ]
     },
     "execution_count": 23,
     "metadata": {},
     "output_type": "execute_result"
    }
   ],
   "source": [
    "# Revenue Grid distribution on year_last_moved!=0 columns \n",
    "dataset[dataset.year_last_moved!=0]['Revenue Grid'].value_counts(normalize=True)"
   ]
  },
  {
   "cell_type": "code",
   "execution_count": 24,
   "metadata": {},
   "outputs": [],
   "source": [
    "# INSIGHTS\n",
    "# not dropping year_last_moved column now, as there is a difference in the Revenue Grid distribution for \n",
    "        # dataset.year_last_moved==0 and dataset.year_last_moved!=0 cases"
   ]
  },
  {
   "cell_type": "markdown",
   "metadata": {},
   "source": [
    "### Outlier Analysis"
   ]
  },
  {
   "cell_type": "code",
   "execution_count": 25,
   "metadata": {},
   "outputs": [
    {
     "data": {
      "text/html": [
       "<div>\n",
       "<style scoped>\n",
       "    .dataframe tbody tr th:only-of-type {\n",
       "        vertical-align: middle;\n",
       "    }\n",
       "\n",
       "    .dataframe tbody tr th {\n",
       "        vertical-align: top;\n",
       "    }\n",
       "\n",
       "    .dataframe thead th {\n",
       "        text-align: right;\n",
       "    }\n",
       "</style>\n",
       "<table border=\"1\" class=\"dataframe\">\n",
       "  <thead>\n",
       "    <tr style=\"text-align: right;\">\n",
       "      <th></th>\n",
       "      <th>children</th>\n",
       "      <th>age_band</th>\n",
       "      <th>status</th>\n",
       "      <th>occupation</th>\n",
       "      <th>occupation_partner</th>\n",
       "      <th>home_status</th>\n",
       "      <th>family_income</th>\n",
       "      <th>self_employed</th>\n",
       "      <th>self_employed_partner</th>\n",
       "      <th>year_last_moved</th>\n",
       "      <th>TVarea</th>\n",
       "      <th>post_code</th>\n",
       "      <th>post_area</th>\n",
       "      <th>Average Credit Card Transaction</th>\n",
       "      <th>Balance Transfer</th>\n",
       "      <th>Term Deposit</th>\n",
       "      <th>Life Insurance</th>\n",
       "      <th>Medical Insurance</th>\n",
       "      <th>Average A/C Balance</th>\n",
       "      <th>Personal Loan</th>\n",
       "      <th>Investment in Mutual Fund</th>\n",
       "      <th>Investment Tax Saving Bond</th>\n",
       "      <th>Home Loan</th>\n",
       "      <th>Online Purchase Amount</th>\n",
       "      <th>Revenue Grid</th>\n",
       "      <th>gender</th>\n",
       "      <th>region</th>\n",
       "      <th>Investment in Commudity</th>\n",
       "      <th>Investment in Equity</th>\n",
       "      <th>Investment in Derivative</th>\n",
       "      <th>Portfolio Balance</th>\n",
       "    </tr>\n",
       "  </thead>\n",
       "  <tbody>\n",
       "    <tr>\n",
       "      <th>250</th>\n",
       "      <td>1</td>\n",
       "      <td>41-45</td>\n",
       "      <td>Partner</td>\n",
       "      <td>Professional</td>\n",
       "      <td>Professional</td>\n",
       "      <td>Own Home</td>\n",
       "      <td>&gt;=35,000</td>\n",
       "      <td>No</td>\n",
       "      <td>No</td>\n",
       "      <td>1988</td>\n",
       "      <td>Tyne Tees</td>\n",
       "      <td>NE38 8SF</td>\n",
       "      <td>NE38</td>\n",
       "      <td>0.0</td>\n",
       "      <td>2951.76</td>\n",
       "      <td>251.33</td>\n",
       "      <td>2930.41</td>\n",
       "      <td>21.96</td>\n",
       "      <td>197.9</td>\n",
       "      <td>4905.93</td>\n",
       "      <td>2561.27</td>\n",
       "      <td>9.48</td>\n",
       "      <td>0.0</td>\n",
       "      <td>0.0</td>\n",
       "      <td>0</td>\n",
       "      <td>Male</td>\n",
       "      <td>North</td>\n",
       "      <td>1231.09</td>\n",
       "      <td>1279.1</td>\n",
       "      <td>1771.16</td>\n",
       "      <td>4283.56</td>\n",
       "    </tr>\n",
       "  </tbody>\n",
       "</table>\n",
       "</div>"
      ],
      "text/plain": [
       "    children age_band   status    occupation occupation_partner home_status  \\\n",
       "250        1    41-45  Partner  Professional       Professional    Own Home   \n",
       "\n",
       "    family_income self_employed self_employed_partner  year_last_moved  \\\n",
       "250      >=35,000            No                    No             1988   \n",
       "\n",
       "        TVarea post_code post_area  Average Credit Card Transaction  \\\n",
       "250  Tyne Tees  NE38 8SF      NE38                              0.0   \n",
       "\n",
       "     Balance Transfer  Term Deposit  Life Insurance  Medical Insurance  \\\n",
       "250           2951.76        251.33         2930.41              21.96   \n",
       "\n",
       "     Average A/C Balance  Personal Loan  Investment in Mutual Fund  \\\n",
       "250                197.9        4905.93                    2561.27   \n",
       "\n",
       "     Investment Tax Saving Bond  Home Loan  Online Purchase Amount  \\\n",
       "250                        9.48        0.0                     0.0   \n",
       "\n",
       "     Revenue Grid gender region  Investment in Commudity  \\\n",
       "250             0   Male  North                  1231.09   \n",
       "\n",
       "     Investment in Equity  Investment in Derivative  Portfolio Balance  \n",
       "250                1279.1                   1771.16            4283.56  "
      ]
     },
     "execution_count": 25,
     "metadata": {},
     "output_type": "execute_result"
    }
   ],
   "source": [
    "# checking the outlier in Balance Transfer, Life Insurance, Personal Loan, Investment in Mutual Fund, Investment in Commudity, \n",
    "# Investment in Equity, Investment in Derivative, Portfolio Balance columns, to see if its the same customer\n",
    "dataset[dataset['Portfolio Balance']>4000]\n",
    "\n",
    "# INSIGHTS\n",
    "# Its the same Customer\n",
    "# This row can be removed, as its an outlier"
   ]
  },
  {
   "cell_type": "markdown",
   "metadata": {},
   "source": [
    "### Removing the outlier"
   ]
  },
  {
   "cell_type": "code",
   "execution_count": 26,
   "metadata": {},
   "outputs": [
    {
     "data": {
      "text/plain": [
       "(10155, 31)"
      ]
     },
     "execution_count": 26,
     "metadata": {},
     "output_type": "execute_result"
    }
   ],
   "source": [
    "dataset.shape"
   ]
  },
  {
   "cell_type": "code",
   "execution_count": 27,
   "metadata": {},
   "outputs": [
    {
     "data": {
      "text/plain": [
       "(10154, 31)"
      ]
     },
     "execution_count": 27,
     "metadata": {},
     "output_type": "execute_result"
    }
   ],
   "source": [
    "## Preprocessing step 4\n",
    "\n",
    "# using .copy() solves the SettingWithCopyWarning in Preprocessing step 6\n",
    "dataset=dataset[~(dataset['Portfolio Balance']>4000)].copy()\n",
    "dataset.shape"
   ]
  },
  {
   "cell_type": "markdown",
   "metadata": {},
   "source": [
    "### Capping these columns to reduce the impact of outliers."
   ]
  },
  {
   "cell_type": "code",
   "execution_count": 28,
   "metadata": {},
   "outputs": [
    {
     "name": "stdout",
     "output_type": "stream",
     "text": [
      "Average Credit Card Transaction: 662.26 130.59\n",
      "Term Deposit: 784.82 126.6\n",
      "Medical Insurance: 591.04 82.44\n",
      "Average A/C Balance: 626.24 120.32\n",
      "Personal Loan: 1645.38 134.17\n",
      "Investment Tax Saving Bond: 156.87 32.55\n",
      "Home Loan: 162.35 24.46\n",
      "Online Purchase Amount: 4306.42 93.45\n",
      "Investment in Equity: 717.74 69.72\n"
     ]
    }
   ],
   "source": [
    "## Preprocessing step 5\n",
    "\n",
    "# choosing these columns to cap - Average Credit Card Transaction, Term Deposit, 'Medical Insurance', Average A/C Balance, \n",
    "         # Personal Loan, Investment Tax Saving Bond, Home Loan, Online Purchase Amount, Investment in Equity \n",
    "    \n",
    "cap_columns=['Average Credit Card Transaction', 'Term Deposit', 'Medical Insurance', 'Average A/C Balance', 'Personal Loan',\n",
    "         'Investment Tax Saving Bond', 'Home Loan', 'Online Purchase Amount', 'Investment in Equity']\n",
    "\n",
    "# comparing max_value of each column with its 95th percentile value\n",
    "for i in cap_columns:\n",
    "    max_val= np.max(dataset[i])\n",
    "    percentile_95_val = np.quantile(dataset[i],0.95)   # finding the 95th percentile value\n",
    "    print(f'{i}: {max_val} {round(percentile_95_val,2)}')  "
   ]
  },
  {
   "cell_type": "code",
   "execution_count": 29,
   "metadata": {},
   "outputs": [
    {
     "data": {
      "text/html": [
       "<div>\n",
       "<style scoped>\n",
       "    .dataframe tbody tr th:only-of-type {\n",
       "        vertical-align: middle;\n",
       "    }\n",
       "\n",
       "    .dataframe tbody tr th {\n",
       "        vertical-align: top;\n",
       "    }\n",
       "\n",
       "    .dataframe thead th {\n",
       "        text-align: right;\n",
       "    }\n",
       "</style>\n",
       "<table border=\"1\" class=\"dataframe\">\n",
       "  <thead>\n",
       "    <tr style=\"text-align: right;\">\n",
       "      <th></th>\n",
       "      <th>Average Credit Card Transaction</th>\n",
       "      <th>Term Deposit</th>\n",
       "      <th>Medical Insurance</th>\n",
       "      <th>Average A/C Balance</th>\n",
       "      <th>Personal Loan</th>\n",
       "      <th>Investment Tax Saving Bond</th>\n",
       "      <th>Home Loan</th>\n",
       "      <th>Online Purchase Amount</th>\n",
       "      <th>Investment in Equity</th>\n",
       "    </tr>\n",
       "  </thead>\n",
       "  <tbody>\n",
       "    <tr>\n",
       "      <th>count</th>\n",
       "      <td>10154.000000</td>\n",
       "      <td>10154.000000</td>\n",
       "      <td>10154.000000</td>\n",
       "      <td>10154.000000</td>\n",
       "      <td>10154.000000</td>\n",
       "      <td>10154.000000</td>\n",
       "      <td>10154.000000</td>\n",
       "      <td>10154.000000</td>\n",
       "      <td>10154.000000</td>\n",
       "    </tr>\n",
       "    <tr>\n",
       "      <th>mean</th>\n",
       "      <td>23.444065</td>\n",
       "      <td>27.557816</td>\n",
       "      <td>19.141773</td>\n",
       "      <td>32.068635</td>\n",
       "      <td>25.525412</td>\n",
       "      <td>6.111739</td>\n",
       "      <td>4.482443</td>\n",
       "      <td>19.164659</td>\n",
       "      <td>21.574861</td>\n",
       "    </tr>\n",
       "    <tr>\n",
       "      <th>std</th>\n",
       "      <td>50.874101</td>\n",
       "      <td>53.909488</td>\n",
       "      <td>32.453442</td>\n",
       "      <td>45.459075</td>\n",
       "      <td>68.973832</td>\n",
       "      <td>12.834263</td>\n",
       "      <td>9.983033</td>\n",
       "      <td>89.670477</td>\n",
       "      <td>29.352661</td>\n",
       "    </tr>\n",
       "    <tr>\n",
       "      <th>min</th>\n",
       "      <td>0.000000</td>\n",
       "      <td>0.000000</td>\n",
       "      <td>0.000000</td>\n",
       "      <td>0.000000</td>\n",
       "      <td>0.000000</td>\n",
       "      <td>0.000000</td>\n",
       "      <td>0.000000</td>\n",
       "      <td>0.000000</td>\n",
       "      <td>0.000000</td>\n",
       "    </tr>\n",
       "    <tr>\n",
       "      <th>50%</th>\n",
       "      <td>0.000000</td>\n",
       "      <td>0.000000</td>\n",
       "      <td>0.510000</td>\n",
       "      <td>14.990000</td>\n",
       "      <td>0.000000</td>\n",
       "      <td>0.000000</td>\n",
       "      <td>0.000000</td>\n",
       "      <td>0.000000</td>\n",
       "      <td>12.980000</td>\n",
       "    </tr>\n",
       "    <tr>\n",
       "      <th>95%</th>\n",
       "      <td>130.591500</td>\n",
       "      <td>126.601500</td>\n",
       "      <td>82.440500</td>\n",
       "      <td>120.317000</td>\n",
       "      <td>134.174500</td>\n",
       "      <td>32.553500</td>\n",
       "      <td>24.460000</td>\n",
       "      <td>93.453500</td>\n",
       "      <td>69.717500</td>\n",
       "    </tr>\n",
       "    <tr>\n",
       "      <th>99%</th>\n",
       "      <td>241.959400</td>\n",
       "      <td>248.822400</td>\n",
       "      <td>148.659100</td>\n",
       "      <td>195.865300</td>\n",
       "      <td>307.541000</td>\n",
       "      <td>57.314000</td>\n",
       "      <td>44.739900</td>\n",
       "      <td>309.257600</td>\n",
       "      <td>132.717900</td>\n",
       "    </tr>\n",
       "    <tr>\n",
       "      <th>max</th>\n",
       "      <td>662.260000</td>\n",
       "      <td>784.820000</td>\n",
       "      <td>591.040000</td>\n",
       "      <td>626.240000</td>\n",
       "      <td>1645.380000</td>\n",
       "      <td>156.870000</td>\n",
       "      <td>162.350000</td>\n",
       "      <td>4306.420000</td>\n",
       "      <td>717.740000</td>\n",
       "    </tr>\n",
       "  </tbody>\n",
       "</table>\n",
       "</div>"
      ],
      "text/plain": [
       "       Average Credit Card Transaction  Term Deposit  Medical Insurance  \\\n",
       "count                     10154.000000  10154.000000       10154.000000   \n",
       "mean                         23.444065     27.557816          19.141773   \n",
       "std                          50.874101     53.909488          32.453442   \n",
       "min                           0.000000      0.000000           0.000000   \n",
       "50%                           0.000000      0.000000           0.510000   \n",
       "95%                         130.591500    126.601500          82.440500   \n",
       "99%                         241.959400    248.822400         148.659100   \n",
       "max                         662.260000    784.820000         591.040000   \n",
       "\n",
       "       Average A/C Balance  Personal Loan  Investment Tax Saving Bond  \\\n",
       "count         10154.000000   10154.000000                10154.000000   \n",
       "mean             32.068635      25.525412                    6.111739   \n",
       "std              45.459075      68.973832                   12.834263   \n",
       "min               0.000000       0.000000                    0.000000   \n",
       "50%              14.990000       0.000000                    0.000000   \n",
       "95%             120.317000     134.174500                   32.553500   \n",
       "99%             195.865300     307.541000                   57.314000   \n",
       "max             626.240000    1645.380000                  156.870000   \n",
       "\n",
       "          Home Loan  Online Purchase Amount  Investment in Equity  \n",
       "count  10154.000000            10154.000000          10154.000000  \n",
       "mean       4.482443               19.164659             21.574861  \n",
       "std        9.983033               89.670477             29.352661  \n",
       "min        0.000000                0.000000              0.000000  \n",
       "50%        0.000000                0.000000             12.980000  \n",
       "95%       24.460000               93.453500             69.717500  \n",
       "99%       44.739900              309.257600            132.717900  \n",
       "max      162.350000             4306.420000            717.740000  "
      ]
     },
     "execution_count": 29,
     "metadata": {},
     "output_type": "execute_result"
    }
   ],
   "source": [
    "# verifying the 95th percentile values\n",
    "dataset[cap_columns].describe(percentiles=[.95,.99])"
   ]
  },
  {
   "cell_type": "code",
   "execution_count": 30,
   "metadata": {
    "collapsed": true,
    "jupyter": {
     "outputs_hidden": true
    }
   },
   "outputs": [
    {
     "data": {
      "image/png": "[encoded data removed]",
      "text/plain": [
       "<Figure size 1512x576 with 8 Axes>"
      ]
     },
     "metadata": {
      "needs_background": "light"
     },
     "output_type": "display_data"
    }
   ],
   "source": [
    "# comparing 95th and 99th percentile values for cap_columns\n",
    "no_of_rows=2; no_of_cols = 4\n",
    "i=0\n",
    "fig,ax=plt.subplots(no_of_rows, no_of_cols,figsize = (21,8))\n",
    "for row in range(no_of_rows):\n",
    "    for col in range(no_of_cols):\n",
    "        ax[row][col].scatter(dataset.index,dataset.loc[:,cap_columns[i]])\n",
    "        ax[row][col].set_ylabel(cap_columns[i])\n",
    "        ax[row][col].axhline(y=np.quantile(dataset[cap_columns[i]],0.99), alpha=5, color=\"black\") # 99th percentile line\n",
    "        ax[row][col].axhline(y=np.quantile(dataset[cap_columns[i]],0.95), alpha=5, color=\"red\") # 95th percentile line        \n",
    "        i=i+1\n",
    "        \n",
    "# INSIGHTS\n",
    "# 99th percentile looks like a better option"
   ]
  },
  {
   "cell_type": "code",
   "execution_count": 31,
   "metadata": {},
   "outputs": [
    {
     "name": "stdout",
     "output_type": "stream",
     "text": [
      "max_val, 99th percentile, UCL\n",
      "-----------------------------\n",
      "662.26 241.96 59.95\n",
      "784.82 248.82 87.47\n",
      "591.04 148.66 68.68\n",
      "626.24 195.87 116.19\n",
      "1645.38 307.54 53.7\n",
      "156.87 57.31 14.92\n",
      "162.35 44.74 11.23\n",
      "4306.42 309.26 19.95\n",
      "717.74 132.72 63.74\n"
     ]
    }
   ],
   "source": [
    "# another option for capping - instead of taking percentile, compute the Upper Control Limit using the formula: UCL = Q3 + 1.5 * IQR\n",
    "\n",
    "print(\"max_val, 99th percentile, UCL\")\n",
    "print(\"-----------------------------\")\n",
    "\n",
    "for column in cap_columns:\n",
    "    max_val= np.max(dataset[column])\n",
    "    percentile_99_val= np.quantile(dataset[column],0.99)\n",
    "    Q1 = np.quantile(dataset[column],0.25)   # finding the 25th percentile value\n",
    "    Q3 = np.quantile(dataset[column],0.75)   # finding the 75th percentile value\n",
    "    UCL = Q3 + 1.5 * (Q3 - Q1)  # UCL = Q3 + 1.5 * IQR\n",
    "    print(max_val, round(percentile_99_val,2), round(UCL,2)) \n",
    "\n",
    "# INSIGHT\n",
    "# UCL is much lesser than 99th percentile value, a better approach is capping to 99th percentile."
   ]
  },
  {
   "cell_type": "code",
   "execution_count": 32,
   "metadata": {},
   "outputs": [],
   "source": [
    "## Preprocessing step 6\n",
    "\n",
    "# Capping the numeric columns to 99th percentile \n",
    "for column in cap_columns:  \n",
    "    \n",
    "    # finding the 99th percentile value\n",
    "    percentile_99_val = np.quantile(dataset[column],0.99)  \n",
    "    \n",
    "    # replace all the values greater than 99th percentile with the 99th percentile value\n",
    "    dataset.loc[dataset[column]>percentile_99_val, column] = percentile_99_val  "
   ]
  },
  {
   "cell_type": "code",
   "execution_count": 33,
   "metadata": {},
   "outputs": [
    {
     "name": "stdout",
     "output_type": "stream",
     "text": [
      "241.9594\n",
      "248.8223999999987\n",
      "148.65909999999965\n",
      "195.86529999999934\n",
      "307.5409999999972\n",
      "57.313999999999865\n",
      "44.73989999999989\n",
      "309.2575999999947\n",
      "132.71789999999834\n"
     ]
    }
   ],
   "source": [
    "# confirming that the max_value of each column is its 99th percentile value\n",
    "for i in cap_columns:\n",
    "    max_val= np.max(dataset[i])\n",
    "    print(max_val) \n",
    "\n",
    "# INSIGHT\n",
    "# max_value is updated to reflect its previous 99th percentile value"
   ]
  },
  {
   "cell_type": "markdown",
   "metadata": {},
   "source": [
    "### Analysing the categorical columns in the datatset"
   ]
  },
  {
   "cell_type": "code",
   "execution_count": 34,
   "metadata": {},
   "outputs": [
    {
     "data": {
      "text/plain": [
       "Index(['children', 'age_band', 'status', 'occupation', 'occupation_partner',\n",
       "       'home_status', 'family_income', 'self_employed',\n",
       "       'self_employed_partner', 'TVarea', 'post_code', 'post_area', 'gender',\n",
       "       'region'],\n",
       "      dtype='object')"
      ]
     },
     "execution_count": 34,
     "metadata": {},
     "output_type": "execute_result"
    }
   ],
   "source": [
    "# getting only the categorical columns\n",
    "dataset.select_dtypes(exclude=np.number).columns"
   ]
  },
  {
   "cell_type": "code",
   "execution_count": 35,
   "metadata": {
    "collapsed": true,
    "jupyter": {
     "outputs_hidden": true
    }
   },
   "outputs": [
    {
     "data": {
      "text/html": [
       "<div>\n",
       "<style scoped>\n",
       "    .dataframe tbody tr th:only-of-type {\n",
       "        vertical-align: middle;\n",
       "    }\n",
       "\n",
       "    .dataframe tbody tr th {\n",
       "        vertical-align: top;\n",
       "    }\n",
       "\n",
       "    .dataframe thead th {\n",
       "        text-align: right;\n",
       "    }\n",
       "</style>\n",
       "<table border=\"1\" class=\"dataframe\">\n",
       "  <thead>\n",
       "    <tr style=\"text-align: right;\">\n",
       "      <th></th>\n",
       "      <th>children</th>\n",
       "      <th>age_band</th>\n",
       "      <th>status</th>\n",
       "      <th>occupation</th>\n",
       "      <th>occupation_partner</th>\n",
       "      <th>home_status</th>\n",
       "      <th>family_income</th>\n",
       "      <th>self_employed</th>\n",
       "      <th>self_employed_partner</th>\n",
       "      <th>TVarea</th>\n",
       "      <th>post_code</th>\n",
       "      <th>post_area</th>\n",
       "      <th>gender</th>\n",
       "      <th>region</th>\n",
       "    </tr>\n",
       "  </thead>\n",
       "  <tbody>\n",
       "    <tr>\n",
       "      <th>7403</th>\n",
       "      <td>Zero</td>\n",
       "      <td>71+</td>\n",
       "      <td>Partner</td>\n",
       "      <td>Retired</td>\n",
       "      <td>Retired</td>\n",
       "      <td>Own Home</td>\n",
       "      <td>&lt; 8,000, &gt;= 4,000</td>\n",
       "      <td>No</td>\n",
       "      <td>No</td>\n",
       "      <td>Yorkshire</td>\n",
       "      <td>WF12 0EW</td>\n",
       "      <td>WF12</td>\n",
       "      <td>Male</td>\n",
       "      <td>Unknown</td>\n",
       "    </tr>\n",
       "    <tr>\n",
       "      <th>6415</th>\n",
       "      <td>1</td>\n",
       "      <td>26-30</td>\n",
       "      <td>Partner</td>\n",
       "      <td>Housewife</td>\n",
       "      <td>Professional</td>\n",
       "      <td>Own Home</td>\n",
       "      <td>&gt;=35,000</td>\n",
       "      <td>No</td>\n",
       "      <td>No</td>\n",
       "      <td>Scottish TV</td>\n",
       "      <td>G74 4TF</td>\n",
       "      <td>G74</td>\n",
       "      <td>Female</td>\n",
       "      <td>Scotland</td>\n",
       "    </tr>\n",
       "    <tr>\n",
       "      <th>4638</th>\n",
       "      <td>Zero</td>\n",
       "      <td>55-60</td>\n",
       "      <td>Partner</td>\n",
       "      <td>Secretarial/Admin</td>\n",
       "      <td>Manual Worker</td>\n",
       "      <td>Own Home</td>\n",
       "      <td>&lt;27,500, &gt;=25,000</td>\n",
       "      <td>No</td>\n",
       "      <td>No</td>\n",
       "      <td>TV South West</td>\n",
       "      <td>DT4 0SU</td>\n",
       "      <td>DT4</td>\n",
       "      <td>Female</td>\n",
       "      <td>South West</td>\n",
       "    </tr>\n",
       "  </tbody>\n",
       "</table>\n",
       "</div>"
      ],
      "text/plain": [
       "     children age_band   status         occupation occupation_partner  \\\n",
       "7403     Zero      71+  Partner            Retired            Retired   \n",
       "6415        1    26-30  Partner          Housewife       Professional   \n",
       "4638     Zero    55-60  Partner  Secretarial/Admin      Manual Worker   \n",
       "\n",
       "     home_status      family_income self_employed self_employed_partner  \\\n",
       "7403    Own Home  < 8,000, >= 4,000            No                    No   \n",
       "6415    Own Home           >=35,000            No                    No   \n",
       "4638    Own Home  <27,500, >=25,000            No                    No   \n",
       "\n",
       "             TVarea post_code post_area  gender      region  \n",
       "7403      Yorkshire  WF12 0EW      WF12    Male     Unknown  \n",
       "6415    Scottish TV   G74 4TF       G74  Female    Scotland  \n",
       "4638  TV South West   DT4 0SU       DT4  Female  South West  "
      ]
     },
     "execution_count": 35,
     "metadata": {},
     "output_type": "execute_result"
    }
   ],
   "source": [
    "# viewing the dataset with only categorical columns\n",
    "dataset.select_dtypes(exclude=np.number).sample(3)"
   ]
  },
  {
   "cell_type": "markdown",
   "metadata": {},
   "source": [
    "#### Analysing children column"
   ]
  },
  {
   "cell_type": "code",
   "execution_count": 36,
   "metadata": {},
   "outputs": [
    {
     "data": {
      "text/plain": [
       "5"
      ]
     },
     "execution_count": 36,
     "metadata": {},
     "output_type": "execute_result"
    }
   ],
   "source": [
    "dataset.children.nunique() # 5 unique values in children column"
   ]
  },
  {
   "cell_type": "code",
   "execution_count": 37,
   "metadata": {},
   "outputs": [
    {
     "data": {
      "text/plain": [
       "array(['Zero', '1', '2', '3', '4+'], dtype=object)"
      ]
     },
     "execution_count": 37,
     "metadata": {},
     "output_type": "execute_result"
    }
   ],
   "source": [
    "dataset.children.unique()"
   ]
  },
  {
   "cell_type": "code",
   "execution_count": 38,
   "metadata": {},
   "outputs": [
    {
     "data": {
      "text/plain": [
       "Zero    0.611385\n",
       "1       0.181899\n",
       "2       0.158263\n",
       "3       0.046583\n",
       "4+      0.001871\n",
       "Name: children, dtype: float64"
      ]
     },
     "execution_count": 38,
     "metadata": {},
     "output_type": "execute_result"
    }
   ],
   "source": [
    "dataset.children.value_counts(normalize=True)\n",
    "\n",
    "# INSIGHTS\n",
    "# Since 4+ is only 0.18% of the entire customers, it can be combined to children=3 and rename children=3 as 3+"
   ]
  },
  {
   "cell_type": "code",
   "execution_count": 39,
   "metadata": {},
   "outputs": [
    {
     "data": {
      "text/plain": [
       "Zero    0.611385\n",
       "1       0.181899\n",
       "2       0.158263\n",
       "3+      0.048454\n",
       "Name: children, dtype: float64"
      ]
     },
     "execution_count": 39,
     "metadata": {},
     "output_type": "execute_result"
    }
   ],
   "source": [
    "## Preprocessing step 7\n",
    "\n",
    "dataset.loc[dataset.children=='4+',\"children\"]=\"3+\"\n",
    "dataset.loc[dataset.children=='3',\"children\"]=\"3+\"\n",
    "dataset.children.value_counts(normalize=True)"
   ]
  },
  {
   "cell_type": "code",
   "execution_count": 40,
   "metadata": {},
   "outputs": [
    {
     "data": {
      "text/plain": [
       "Index(['age_band', 'status', 'occupation', 'occupation_partner', 'home_status',\n",
       "       'family_income', 'self_employed', 'self_employed_partner',\n",
       "       'year_last_moved', 'TVarea', 'post_code', 'post_area',\n",
       "       'Average Credit Card Transaction', 'Balance Transfer', 'Term Deposit',\n",
       "       'Life Insurance', 'Medical Insurance', 'Average A/C Balance',\n",
       "       'Personal Loan', 'Investment in Mutual Fund',\n",
       "       'Investment Tax Saving Bond', 'Home Loan', 'Online Purchase Amount',\n",
       "       'Revenue Grid', 'gender', 'region', 'Investment in Commudity',\n",
       "       'Investment in Equity', 'Investment in Derivative', 'Portfolio Balance',\n",
       "       'chidren_2', 'chidren_3+', 'chidren_Zero'],\n",
       "      dtype='object')"
      ]
     },
     "execution_count": 40,
     "metadata": {},
     "output_type": "execute_result"
    }
   ],
   "source": [
    "## Preprocessing step 8\n",
    "\n",
    "# one hot encoding dataset.children\n",
    "children_data = pd.get_dummies(dataset['children'],drop_first =True,prefix ='chidren')\n",
    "dataset.drop(['children'],axis=1,inplace=True)\n",
    "dataset = pd.concat([dataset,children_data],axis=1)\n",
    "dataset.columns # children column is removed and its dummy variables are added"
   ]
  },
  {
   "cell_type": "markdown",
   "metadata": {},
   "source": [
    "#### Analysing age_band column"
   ]
  },
  {
   "cell_type": "code",
   "execution_count": 41,
   "metadata": {},
   "outputs": [
    {
     "data": {
      "text/plain": [
       "13"
      ]
     },
     "execution_count": 41,
     "metadata": {},
     "output_type": "execute_result"
    }
   ],
   "source": [
    "dataset.age_band.nunique()"
   ]
  },
  {
   "cell_type": "code",
   "execution_count": 42,
   "metadata": {},
   "outputs": [
    {
     "data": {
      "text/plain": [
       "45-50      1359\n",
       "36-40      1134\n",
       "41-45      1111\n",
       "31-35      1061\n",
       "51-55      1052\n",
       "55-60      1047\n",
       "26-30       927\n",
       "61-65       881\n",
       "65-70       598\n",
       "22-25       456\n",
       "71+         410\n",
       "18-21        63\n",
       "Unknown      55\n",
       "Name: age_band, dtype: int64"
      ]
     },
     "execution_count": 42,
     "metadata": {},
     "output_type": "execute_result"
    }
   ],
   "source": [
    "dataset.age_band.value_counts()"
   ]
  },
  {
   "cell_type": "code",
   "execution_count": 43,
   "metadata": {},
   "outputs": [
    {
     "data": {
      "text/plain": [
       "45-50      0.133839\n",
       "36-40      0.111680\n",
       "41-45      0.109415\n",
       "31-35      0.104491\n",
       "51-55      0.103604\n",
       "55-60      0.103112\n",
       "26-30      0.091294\n",
       "61-65      0.086764\n",
       "65-70      0.058893\n",
       "22-25      0.044908\n",
       "71+        0.040378\n",
       "18-21      0.006204\n",
       "Unknown    0.005417\n",
       "Name: age_band, dtype: float64"
      ]
     },
     "execution_count": 43,
     "metadata": {},
     "output_type": "execute_result"
    }
   ],
   "source": [
    "# normalize=True returns the relative frequencies of the unique values\n",
    "dataset.age_band.value_counts(normalize=True)"
   ]
  },
  {
   "cell_type": "code",
   "execution_count": 44,
   "metadata": {},
   "outputs": [
    {
     "data": {
      "text/plain": [
       "Index(['status', 'occupation', 'occupation_partner', 'home_status',\n",
       "       'family_income', 'self_employed', 'self_employed_partner',\n",
       "       'year_last_moved', 'TVarea', 'post_code', 'post_area',\n",
       "       'Average Credit Card Transaction', 'Balance Transfer', 'Term Deposit',\n",
       "       'Life Insurance', 'Medical Insurance', 'Average A/C Balance',\n",
       "       'Personal Loan', 'Investment in Mutual Fund',\n",
       "       'Investment Tax Saving Bond', 'Home Loan', 'Online Purchase Amount',\n",
       "       'Revenue Grid', 'gender', 'region', 'Investment in Commudity',\n",
       "       'Investment in Equity', 'Investment in Derivative', 'Portfolio Balance',\n",
       "       'chidren_2', 'chidren_3+', 'chidren_Zero', 'age_band_22-25',\n",
       "       'age_band_26-30', 'age_band_31-35', 'age_band_36-40', 'age_band_41-45',\n",
       "       'age_band_45-50', 'age_band_51-55', 'age_band_55-60', 'age_band_61-65',\n",
       "       'age_band_65-70', 'age_band_71+', 'age_band_Unknown'],\n",
       "      dtype='object')"
      ]
     },
     "execution_count": 44,
     "metadata": {},
     "output_type": "execute_result"
    }
   ],
   "source": [
    "## Preprocessing step 9\n",
    "\n",
    "age_band_dummies = pd.get_dummies(dataset['age_band'],drop_first=True,prefix = 'age_band')\n",
    "dataset.drop(['age_band'],axis=1,inplace=True)\n",
    "dataset = pd.concat([dataset,age_band_dummies],axis=1)\n",
    "dataset.columns # age_band column is removed and its dummy variables are added"
   ]
  },
  {
   "cell_type": "markdown",
   "metadata": {},
   "source": [
    "#### Analysing Status column"
   ]
  },
  {
   "cell_type": "code",
   "execution_count": 45,
   "metadata": {},
   "outputs": [
    {
     "data": {
      "text/plain": [
       "Partner                 7708\n",
       "Single/Never Married    1101\n",
       "Divorced/Separated       679\n",
       "Widowed                  618\n",
       "Unknown                   48\n",
       "Name: status, dtype: int64"
      ]
     },
     "execution_count": 45,
     "metadata": {},
     "output_type": "execute_result"
    }
   ],
   "source": [
    "dataset.status.value_counts()"
   ]
  },
  {
   "cell_type": "code",
   "execution_count": 46,
   "metadata": {},
   "outputs": [
    {
     "data": {
      "text/plain": [
       "Partner                 0.759110\n",
       "Single/Never Married    0.108430\n",
       "Divorced/Separated      0.066870\n",
       "Widowed                 0.060863\n",
       "Unknown                 0.004727\n",
       "Name: status, dtype: float64"
      ]
     },
     "execution_count": 46,
     "metadata": {},
     "output_type": "execute_result"
    }
   ],
   "source": [
    "dataset.status.value_counts(normalize=True)"
   ]
  },
  {
   "cell_type": "code",
   "execution_count": 47,
   "metadata": {},
   "outputs": [
    {
     "data": {
      "text/plain": [
       "Index(['occupation', 'occupation_partner', 'home_status', 'family_income',\n",
       "       'self_employed', 'self_employed_partner', 'year_last_moved', 'TVarea',\n",
       "       'post_code', 'post_area', 'Average Credit Card Transaction',\n",
       "       'Balance Transfer', 'Term Deposit', 'Life Insurance',\n",
       "       'Medical Insurance', 'Average A/C Balance', 'Personal Loan',\n",
       "       'Investment in Mutual Fund', 'Investment Tax Saving Bond', 'Home Loan',\n",
       "       'Online Purchase Amount', 'Revenue Grid', 'gender', 'region',\n",
       "       'Investment in Commudity', 'Investment in Equity',\n",
       "       'Investment in Derivative', 'Portfolio Balance', 'chidren_2',\n",
       "       'chidren_3+', 'chidren_Zero', 'age_band_22-25', 'age_band_26-30',\n",
       "       'age_band_31-35', 'age_band_36-40', 'age_band_41-45', 'age_band_45-50',\n",
       "       'age_band_51-55', 'age_band_55-60', 'age_band_61-65', 'age_band_65-70',\n",
       "       'age_band_71+', 'age_band_Unknown', 'status_Partner',\n",
       "       'status_Single/Never Married', 'status_Unknown', 'status_Widowed'],\n",
       "      dtype='object')"
      ]
     },
     "execution_count": 47,
     "metadata": {},
     "output_type": "execute_result"
    }
   ],
   "source": [
    "## Preprocessing step 10\n",
    "\n",
    "# drop_first=True generates 4 dummies out of 5 unique values,\n",
    "                # by removing the first value (Divorced/Separated in this case)\n",
    "status_dummies = pd.get_dummies(dataset['status'], drop_first=True, prefix = 'status')\n",
    "\n",
    "dataset.drop(['status'],axis=1,inplace=True)\n",
    "dataset = pd.concat([dataset,status_dummies],axis=1)\n",
    "dataset.columns"
   ]
  },
  {
   "cell_type": "markdown",
   "metadata": {},
   "source": [
    "#### Analysing occupation column"
   ]
  },
  {
   "cell_type": "code",
   "execution_count": 48,
   "metadata": {},
   "outputs": [
    {
     "data": {
      "text/plain": [
       "Professional         2448\n",
       "Retired              2206\n",
       "Secretarial/Admin    1797\n",
       "Housewife            1255\n",
       "Business Manager      732\n",
       "Unknown               567\n",
       "Manual Worker         556\n",
       "Other                 537\n",
       "Student                56\n",
       "Name: occupation, dtype: int64"
      ]
     },
     "execution_count": 48,
     "metadata": {},
     "output_type": "execute_result"
    }
   ],
   "source": [
    "dataset.occupation.value_counts()\n",
    "\n",
    "# INSIGHTS\n",
    "# can 'Unknown' and 'Other' categories be combined?\n",
    "# 'Other' means, none of the mentioned categories.\n",
    "# 'Unknown' means, we don't have information about their occupation.\n",
    "# So leaving it as is."
   ]
  },
  {
   "cell_type": "code",
   "execution_count": 49,
   "metadata": {},
   "outputs": [
    {
     "data": {
      "text/plain": [
       "Index(['occupation_partner', 'home_status', 'family_income', 'self_employed',\n",
       "       'self_employed_partner', 'year_last_moved', 'TVarea', 'post_code',\n",
       "       'post_area', 'Average Credit Card Transaction', 'Balance Transfer',\n",
       "       'Term Deposit', 'Life Insurance', 'Medical Insurance',\n",
       "       'Average A/C Balance', 'Personal Loan', 'Investment in Mutual Fund',\n",
       "       'Investment Tax Saving Bond', 'Home Loan', 'Online Purchase Amount',\n",
       "       'Revenue Grid', 'gender', 'region', 'Investment in Commudity',\n",
       "       'Investment in Equity', 'Investment in Derivative', 'Portfolio Balance',\n",
       "       'chidren_2', 'chidren_3+', 'chidren_Zero', 'age_band_22-25',\n",
       "       'age_band_26-30', 'age_band_31-35', 'age_band_36-40', 'age_band_41-45',\n",
       "       'age_band_45-50', 'age_band_51-55', 'age_band_55-60', 'age_band_61-65',\n",
       "       'age_band_65-70', 'age_band_71+', 'age_band_Unknown', 'status_Partner',\n",
       "       'status_Single/Never Married', 'status_Unknown', 'status_Widowed',\n",
       "       'occupation_Housewife', 'occupation_Manual Worker', 'occupation_Other',\n",
       "       'occupation_Professional', 'occupation_Retired',\n",
       "       'occupation_Secretarial/Admin', 'occupation_Student',\n",
       "       'occupation_Unknown'],\n",
       "      dtype='object')"
      ]
     },
     "execution_count": 49,
     "metadata": {},
     "output_type": "execute_result"
    }
   ],
   "source": [
    "## Preprocessing step 11\n",
    "\n",
    "occupation_dummies = pd.get_dummies(dataset['occupation'],drop_first=True,prefix = 'occupation')\n",
    "dataset.drop(['occupation'],axis=1,inplace=True)\n",
    "\n",
    "dataset = pd.concat([dataset,occupation_dummies],axis=1)\n",
    "dataset.columns # occupation column is removed and its dummy variables are added"
   ]
  },
  {
   "cell_type": "markdown",
   "metadata": {},
   "source": [
    "#### Analysing occupation_partner column"
   ]
  },
  {
   "cell_type": "code",
   "execution_count": 50,
   "metadata": {},
   "outputs": [
    {
     "data": {
      "text/plain": [
       "Unknown              2394\n",
       "Professional         2050\n",
       "Retired              1936\n",
       "Manual Worker        1508\n",
       "Business Manager      737\n",
       "Secretarial/Admin     662\n",
       "Housewife             527\n",
       "Other                 324\n",
       "Student                16\n",
       "Name: occupation_partner, dtype: int64"
      ]
     },
     "execution_count": 50,
     "metadata": {},
     "output_type": "execute_result"
    }
   ],
   "source": [
    "dataset.occupation_partner.value_counts()\n",
    "\n",
    "# INSIGHTS\n",
    "# can 'Unknown' and 'Other' categories be combined?\n",
    "# 'Other' means, none of the mentioned categories.\n",
    "# 'Unknown' maybe referring to either Customers who don't have partners or we don't have information about \n",
    "       # their partner's occupation. leaving it as is for now."
   ]
  },
  {
   "cell_type": "code",
   "execution_count": 51,
   "metadata": {},
   "outputs": [
    {
     "data": {
      "text/plain": [
       "Index(['home_status', 'family_income', 'self_employed',\n",
       "       'self_employed_partner', 'year_last_moved', 'TVarea', 'post_code',\n",
       "       'post_area', 'Average Credit Card Transaction', 'Balance Transfer',\n",
       "       'Term Deposit', 'Life Insurance', 'Medical Insurance',\n",
       "       'Average A/C Balance', 'Personal Loan', 'Investment in Mutual Fund',\n",
       "       'Investment Tax Saving Bond', 'Home Loan', 'Online Purchase Amount',\n",
       "       'Revenue Grid', 'gender', 'region', 'Investment in Commudity',\n",
       "       'Investment in Equity', 'Investment in Derivative', 'Portfolio Balance',\n",
       "       'chidren_2', 'chidren_3+', 'chidren_Zero', 'age_band_22-25',\n",
       "       'age_band_26-30', 'age_band_31-35', 'age_band_36-40', 'age_band_41-45',\n",
       "       'age_band_45-50', 'age_band_51-55', 'age_band_55-60', 'age_band_61-65',\n",
       "       'age_band_65-70', 'age_band_71+', 'age_band_Unknown', 'status_Partner',\n",
       "       'status_Single/Never Married', 'status_Unknown', 'status_Widowed',\n",
       "       'occupation_Housewife', 'occupation_Manual Worker', 'occupation_Other',\n",
       "       'occupation_Professional', 'occupation_Retired',\n",
       "       'occupation_Secretarial/Admin', 'occupation_Student',\n",
       "       'occupation_Unknown', 'occupation_partner_Housewife',\n",
       "       'occupation_partner_Manual Worker', 'occupation_partner_Other',\n",
       "       'occupation_partner_Professional', 'occupation_partner_Retired',\n",
       "       'occupation_partner_Secretarial/Admin', 'occupation_partner_Student',\n",
       "       'occupation_partner_Unknown'],\n",
       "      dtype='object')"
      ]
     },
     "execution_count": 51,
     "metadata": {},
     "output_type": "execute_result"
    }
   ],
   "source": [
    "## Preprocessing step 12\n",
    "\n",
    "occupation_partner_dummies = pd.get_dummies(dataset['occupation_partner'],drop_first=True,prefix = 'occupation_partner')\n",
    "dataset.drop(['occupation_partner'],axis=1,inplace=True)\n",
    "\n",
    "dataset = pd.concat([dataset,occupation_partner_dummies],axis=1)\n",
    "dataset.columns  # occupation_partner column is removed and its dummy variables are added."
   ]
  },
  {
   "cell_type": "markdown",
   "metadata": {},
   "source": [
    "#### Analysing home_status column"
   ]
  },
  {
   "cell_type": "code",
   "execution_count": 52,
   "metadata": {},
   "outputs": [
    {
     "data": {
      "text/plain": [
       "Own Home                9412\n",
       "Rent from Council/HA     322\n",
       "Rent Privately           261\n",
       "Live in Parental Hom     109\n",
       "Unclassified              50\n",
       "Name: home_status, dtype: int64"
      ]
     },
     "execution_count": 52,
     "metadata": {},
     "output_type": "execute_result"
    }
   ],
   "source": [
    "dataset.home_status.value_counts()"
   ]
  },
  {
   "cell_type": "code",
   "execution_count": 53,
   "metadata": {},
   "outputs": [
    {
     "data": {
      "text/plain": [
       "Own Home                0.926925\n",
       "Rent from Council/HA    0.031712\n",
       "Rent Privately          0.025704\n",
       "Live in Parental Hom    0.010735\n",
       "Unclassified            0.004924\n",
       "Name: home_status, dtype: float64"
      ]
     },
     "execution_count": 53,
     "metadata": {},
     "output_type": "execute_result"
    }
   ],
   "source": [
    "dataset.home_status.value_counts(normalize=True)"
   ]
  },
  {
   "cell_type": "code",
   "execution_count": 54,
   "metadata": {},
   "outputs": [
    {
     "data": {
      "text/plain": [
       "Index(['family_income', 'self_employed', 'self_employed_partner',\n",
       "       'year_last_moved', 'TVarea', 'post_code', 'post_area',\n",
       "       'Average Credit Card Transaction', 'Balance Transfer', 'Term Deposit',\n",
       "       'Life Insurance', 'Medical Insurance', 'Average A/C Balance',\n",
       "       'Personal Loan', 'Investment in Mutual Fund',\n",
       "       'Investment Tax Saving Bond', 'Home Loan', 'Online Purchase Amount',\n",
       "       'Revenue Grid', 'gender', 'region', 'Investment in Commudity',\n",
       "       'Investment in Equity', 'Investment in Derivative', 'Portfolio Balance',\n",
       "       'chidren_2', 'chidren_3+', 'chidren_Zero', 'age_band_22-25',\n",
       "       'age_band_26-30', 'age_band_31-35', 'age_band_36-40', 'age_band_41-45',\n",
       "       'age_band_45-50', 'age_band_51-55', 'age_band_55-60', 'age_band_61-65',\n",
       "       'age_band_65-70', 'age_band_71+', 'age_band_Unknown', 'status_Partner',\n",
       "       'status_Single/Never Married', 'status_Unknown', 'status_Widowed',\n",
       "       'occupation_Housewife', 'occupation_Manual Worker', 'occupation_Other',\n",
       "       'occupation_Professional', 'occupation_Retired',\n",
       "       'occupation_Secretarial/Admin', 'occupation_Student',\n",
       "       'occupation_Unknown', 'occupation_partner_Housewife',\n",
       "       'occupation_partner_Manual Worker', 'occupation_partner_Other',\n",
       "       'occupation_partner_Professional', 'occupation_partner_Retired',\n",
       "       'occupation_partner_Secretarial/Admin', 'occupation_partner_Student',\n",
       "       'occupation_partner_Unknown', 'home_status_Own Home',\n",
       "       'home_status_Rent Privately', 'home_status_Rent from Council/HA',\n",
       "       'home_status_Unclassified'],\n",
       "      dtype='object')"
      ]
     },
     "execution_count": 54,
     "metadata": {},
     "output_type": "execute_result"
    }
   ],
   "source": [
    "## Preprocessing step 13\n",
    "\n",
    "home_status_dummies = pd.get_dummies(dataset['home_status'],drop_first=True,prefix = 'home_status')\n",
    "dataset.drop(['home_status'],axis=1,inplace=True)\n",
    "\n",
    "dataset = pd.concat([dataset,home_status_dummies],axis=1)\n",
    "dataset.columns  # home_status column is removed and its dummy variables are added."
   ]
  },
  {
   "cell_type": "markdown",
   "metadata": {},
   "source": [
    "#### Analysing family_income column"
   ]
  },
  {
   "cell_type": "code",
   "execution_count": 55,
   "metadata": {
    "collapsed": true,
    "jupyter": {
     "outputs_hidden": true
    }
   },
   "outputs": [
    {
     "data": {
      "text/plain": [
       ">=35,000             2516\n",
       "<27,500, >=25,000    1227\n",
       "<30,000, >=27,500     994\n",
       "<25,000, >=22,500     833\n",
       "<20,000, >=17,500     683\n",
       "<12,500, >=10,000     677\n",
       "<17,500, >=15,000     634\n",
       "<15,000, >=12,500     629\n",
       "<22,500, >=20,000     590\n",
       "<10,000, >= 8,000     563\n",
       "< 8,000, >= 4,000     402\n",
       "< 4,000               278\n",
       "Unknown               128\n",
       "Name: family_income, dtype: int64"
      ]
     },
     "execution_count": 55,
     "metadata": {},
     "output_type": "execute_result"
    }
   ],
   "source": [
    "dataset.family_income.value_counts()"
   ]
  },
  {
   "cell_type": "code",
   "execution_count": 56,
   "metadata": {},
   "outputs": [],
   "source": [
    "## Preprocessing step 14\n",
    "\n",
    "# income is used instead of family income \n",
    "income_dummies = pd.get_dummies(dataset['family_income'],drop_first=True,prefix = 'income')\n",
    "dataset.drop(['family_income'],axis=1,inplace=True)\n",
    "dataset = pd.concat([dataset,income_dummies],axis=1)"
   ]
  },
  {
   "cell_type": "code",
   "execution_count": 57,
   "metadata": {
    "collapsed": true,
    "jupyter": {
     "outputs_hidden": true
    }
   },
   "outputs": [
    {
     "data": {
      "text/plain": [
       "Index(['self_employed', 'self_employed_partner', 'year_last_moved', 'TVarea',\n",
       "       'post_code', 'post_area', 'Average Credit Card Transaction',\n",
       "       'Balance Transfer', 'Term Deposit', 'Life Insurance',\n",
       "       'Medical Insurance', 'Average A/C Balance', 'Personal Loan',\n",
       "       'Investment in Mutual Fund', 'Investment Tax Saving Bond', 'Home Loan',\n",
       "       'Online Purchase Amount', 'Revenue Grid', 'gender', 'region',\n",
       "       'Investment in Commudity', 'Investment in Equity',\n",
       "       'Investment in Derivative', 'Portfolio Balance', 'chidren_2',\n",
       "       'chidren_3+', 'chidren_Zero', 'age_band_22-25', 'age_band_26-30',\n",
       "       'age_band_31-35', 'age_band_36-40', 'age_band_41-45', 'age_band_45-50',\n",
       "       'age_band_51-55', 'age_band_55-60', 'age_band_61-65', 'age_band_65-70',\n",
       "       'age_band_71+', 'age_band_Unknown', 'status_Partner',\n",
       "       'status_Single/Never Married', 'status_Unknown', 'status_Widowed',\n",
       "       'occupation_Housewife', 'occupation_Manual Worker', 'occupation_Other',\n",
       "       'occupation_Professional', 'occupation_Retired',\n",
       "       'occupation_Secretarial/Admin', 'occupation_Student',\n",
       "       'occupation_Unknown', 'occupation_partner_Housewife',\n",
       "       'occupation_partner_Manual Worker', 'occupation_partner_Other',\n",
       "       'occupation_partner_Professional', 'occupation_partner_Retired',\n",
       "       'occupation_partner_Secretarial/Admin', 'occupation_partner_Student',\n",
       "       'occupation_partner_Unknown', 'home_status_Own Home',\n",
       "       'home_status_Rent Privately', 'home_status_Rent from Council/HA',\n",
       "       'home_status_Unclassified', 'income_< 8,000, >= 4,000',\n",
       "       'income_<10,000, >= 8,000', 'income_<12,500, >=10,000',\n",
       "       'income_<15,000, >=12,500', 'income_<17,500, >=15,000',\n",
       "       'income_<20,000, >=17,500', 'income_<22,500, >=20,000',\n",
       "       'income_<25,000, >=22,500', 'income_<27,500, >=25,000',\n",
       "       'income_<30,000, >=27,500', 'income_>=35,000', 'income_Unknown'],\n",
       "      dtype='object')"
      ]
     },
     "execution_count": 57,
     "metadata": {},
     "output_type": "execute_result"
    }
   ],
   "source": [
    "dataset.columns"
   ]
  },
  {
   "cell_type": "markdown",
   "metadata": {},
   "source": [
    "#### Analysing self_employed, self_employed_partner, gender columns"
   ]
  },
  {
   "cell_type": "code",
   "execution_count": 58,
   "metadata": {},
   "outputs": [
    {
     "data": {
      "text/plain": [
       "No     9435\n",
       "Yes     719\n",
       "Name: self_employed, dtype: int64"
      ]
     },
     "execution_count": 58,
     "metadata": {},
     "output_type": "execute_result"
    }
   ],
   "source": [
    "dataset.self_employed.value_counts()"
   ]
  },
  {
   "cell_type": "code",
   "execution_count": 59,
   "metadata": {},
   "outputs": [
    {
     "data": {
      "text/plain": [
       "No     9025\n",
       "Yes    1129\n",
       "Name: self_employed_partner, dtype: int64"
      ]
     },
     "execution_count": 59,
     "metadata": {},
     "output_type": "execute_result"
    }
   ],
   "source": [
    "dataset.self_employed_partner.value_counts()"
   ]
  },
  {
   "cell_type": "code",
   "execution_count": 60,
   "metadata": {},
   "outputs": [
    {
     "data": {
      "text/plain": [
       "Female     7634\n",
       "Male       2485\n",
       "Unknown      35\n",
       "Name: gender, dtype: int64"
      ]
     },
     "execution_count": 60,
     "metadata": {},
     "output_type": "execute_result"
    }
   ],
   "source": [
    "dataset.gender.value_counts()"
   ]
  },
  {
   "cell_type": "code",
   "execution_count": 61,
   "metadata": {},
   "outputs": [],
   "source": [
    "## Preprocessing step 15\n",
    "\n",
    "cols = ['self_employed','self_employed_partner','gender']\n",
    "\n",
    "for column in cols:\n",
    "    dummies = pd.get_dummies(dataset[column],drop_first=True,prefix = column)\n",
    "    dataset.drop(column,axis=1,inplace=True)\n",
    "    dataset = pd.concat([dataset,dummies],axis=1)"
   ]
  },
  {
   "cell_type": "code",
   "execution_count": 62,
   "metadata": {
    "collapsed": true,
    "jupyter": {
     "outputs_hidden": true
    }
   },
   "outputs": [
    {
     "data": {
      "text/plain": [
       "Index(['year_last_moved', 'TVarea', 'post_code', 'post_area',\n",
       "       'Average Credit Card Transaction', 'Balance Transfer', 'Term Deposit',\n",
       "       'Life Insurance', 'Medical Insurance', 'Average A/C Balance',\n",
       "       'Personal Loan', 'Investment in Mutual Fund',\n",
       "       'Investment Tax Saving Bond', 'Home Loan', 'Online Purchase Amount',\n",
       "       'Revenue Grid', 'region', 'Investment in Commudity',\n",
       "       'Investment in Equity', 'Investment in Derivative', 'Portfolio Balance',\n",
       "       'chidren_2', 'chidren_3+', 'chidren_Zero', 'age_band_22-25',\n",
       "       'age_band_26-30', 'age_band_31-35', 'age_band_36-40', 'age_band_41-45',\n",
       "       'age_band_45-50', 'age_band_51-55', 'age_band_55-60', 'age_band_61-65',\n",
       "       'age_band_65-70', 'age_band_71+', 'age_band_Unknown', 'status_Partner',\n",
       "       'status_Single/Never Married', 'status_Unknown', 'status_Widowed',\n",
       "       'occupation_Housewife', 'occupation_Manual Worker', 'occupation_Other',\n",
       "       'occupation_Professional', 'occupation_Retired',\n",
       "       'occupation_Secretarial/Admin', 'occupation_Student',\n",
       "       'occupation_Unknown', 'occupation_partner_Housewife',\n",
       "       'occupation_partner_Manual Worker', 'occupation_partner_Other',\n",
       "       'occupation_partner_Professional', 'occupation_partner_Retired',\n",
       "       'occupation_partner_Secretarial/Admin', 'occupation_partner_Student',\n",
       "       'occupation_partner_Unknown', 'home_status_Own Home',\n",
       "       'home_status_Rent Privately', 'home_status_Rent from Council/HA',\n",
       "       'home_status_Unclassified', 'income_< 8,000, >= 4,000',\n",
       "       'income_<10,000, >= 8,000', 'income_<12,500, >=10,000',\n",
       "       'income_<15,000, >=12,500', 'income_<17,500, >=15,000',\n",
       "       'income_<20,000, >=17,500', 'income_<22,500, >=20,000',\n",
       "       'income_<25,000, >=22,500', 'income_<27,500, >=25,000',\n",
       "       'income_<30,000, >=27,500', 'income_>=35,000', 'income_Unknown',\n",
       "       'self_employed_Yes', 'self_employed_partner_Yes', 'gender_Male',\n",
       "       'gender_Unknown'],\n",
       "      dtype='object')"
      ]
     },
     "execution_count": 62,
     "metadata": {},
     "output_type": "execute_result"
    }
   ],
   "source": [
    "dataset.columns"
   ]
  },
  {
   "cell_type": "markdown",
   "metadata": {},
   "source": [
    "#### Analysing TVarea column"
   ]
  },
  {
   "cell_type": "code",
   "execution_count": 63,
   "metadata": {},
   "outputs": [
    {
     "data": {
      "text/plain": [
       "14"
      ]
     },
     "execution_count": 63,
     "metadata": {},
     "output_type": "execute_result"
    }
   ],
   "source": [
    "dataset.TVarea.nunique()"
   ]
  },
  {
   "cell_type": "code",
   "execution_count": 64,
   "metadata": {},
   "outputs": [
    {
     "data": {
      "text/plain": [
       "<AxesSubplot:xlabel='TVarea', ylabel='Revenue Grid'>"
      ]
     },
     "execution_count": 64,
     "metadata": {},
     "output_type": "execute_result"
    },
    {
     "data": {
      "image/png": "[encoded data removed]",
      "text/plain": [
       "<Figure size 1440x216 with 1 Axes>"
      ]
     },
     "metadata": {
      "needs_background": "light"
     },
     "output_type": "display_data"
    }
   ],
   "source": [
    "# checking the central tendency (mean) of \"Revenue Grid\" for different TVarea categories\n",
    "plt.figure(figsize=(20,3))\n",
    "sns.barplot(x=\"TVarea\", y=\"Revenue Grid\",data=dataset) \n",
    "\n",
    "# INSIGHTS\n",
    "# Can Customer's TVarea feature influence their trading pattern?\n",
    "# Not sure, what this feature means.\n",
    "# Revenue Grid mean values for the different TVarea categories are almost same as \n",
    "        # the whole dataset Revenue Grid mean value\n",
    "# TVarea column may not be a good predictor, can be dropped for now\n",
    "# will reconsider, if model performance is not good"
   ]
  },
  {
   "cell_type": "code",
   "execution_count": 65,
   "metadata": {},
   "outputs": [
    {
     "name": "stdout",
     "output_type": "stream",
     "text": [
      "HTV 0.1\n",
      "Granada 0.12\n",
      "Tyne Tees 0.09\n",
      "Central 0.11\n",
      "Scottish TV 0.11\n",
      "Anglia 0.11\n",
      "Carlton 0.11\n",
      "Meridian 0.09\n",
      "Yorkshire 0.12\n",
      "Grampian 0.1\n",
      "TV South West 0.09\n",
      "Ulster 0.12\n",
      "Border 0.14\n",
      "Unknown 0.12\n"
     ]
    }
   ],
   "source": [
    "# checking the Revenue Grid mean values again for different TVarea categories\n",
    "for i in dataset.TVarea.unique():\n",
    "    print(i, round(dataset[dataset.TVarea==i][\"Revenue Grid\"].value_counts(normalize=True)[1],2))"
   ]
  },
  {
   "cell_type": "code",
   "execution_count": 66,
   "metadata": {},
   "outputs": [],
   "source": [
    "## Preprocessing step 16\n",
    "\n",
    "dataset.drop(['TVarea'],axis=1,inplace=True)"
   ]
  },
  {
   "cell_type": "markdown",
   "metadata": {},
   "source": [
    "#### Analysing post_area column"
   ]
  },
  {
   "cell_type": "code",
   "execution_count": 67,
   "metadata": {},
   "outputs": [
    {
     "data": {
      "text/plain": [
       "2039"
      ]
     },
     "execution_count": 67,
     "metadata": {},
     "output_type": "execute_result"
    }
   ],
   "source": [
    "dataset.post_area.nunique()\n",
    "\n",
    "# INSIGHTS\n",
    "# One hot encoding will result in too many columns\n",
    "# dropping this column now"
   ]
  },
  {
   "cell_type": "code",
   "execution_count": 68,
   "metadata": {},
   "outputs": [],
   "source": [
    "## Preprocessing step 17\n",
    "\n",
    "dataset.drop(['post_area'],axis=1,inplace=True)"
   ]
  },
  {
   "cell_type": "markdown",
   "metadata": {},
   "source": [
    "#### Analysing region column"
   ]
  },
  {
   "cell_type": "code",
   "execution_count": 69,
   "metadata": {
    "collapsed": true,
    "jupyter": {
     "outputs_hidden": true
    }
   },
   "outputs": [
    {
     "data": {
      "text/plain": [
       "South East          2100\n",
       "North West          1896\n",
       "Unknown             1080\n",
       "South West           971\n",
       "West Midlands        820\n",
       "Scotland             787\n",
       "East Midlands        771\n",
       "North                570\n",
       "Wales                556\n",
       "East Anglia          423\n",
       "Northern Ireland     159\n",
       "Isle of Man           16\n",
       "Channel Islands        5\n",
       "Name: region, dtype: int64"
      ]
     },
     "execution_count": 69,
     "metadata": {},
     "output_type": "execute_result"
    }
   ],
   "source": [
    "dataset.region.value_counts()"
   ]
  },
  {
   "cell_type": "code",
   "execution_count": 70,
   "metadata": {},
   "outputs": [],
   "source": [
    "## Preprocessing step 18\n",
    "\n",
    "region_dummies = pd.get_dummies(dataset['region'],drop_first=True,prefix = 'region')\n",
    "dataset.drop(['region'],axis=1,inplace=True)\n",
    "dataset = pd.concat([dataset,region_dummies],axis=1)"
   ]
  },
  {
   "cell_type": "markdown",
   "metadata": {},
   "source": [
    "#### Analysing post_code column"
   ]
  },
  {
   "cell_type": "code",
   "execution_count": 71,
   "metadata": {},
   "outputs": [
    {
     "data": {
      "text/plain": [
       "10039"
      ]
     },
     "execution_count": 71,
     "metadata": {},
     "output_type": "execute_result"
    }
   ],
   "source": [
    "dataset.post_code.nunique()\n",
    "\n",
    "# INSIGHTS\n",
    "# dropping this column now as onehot encoding will result in too many columns"
   ]
  },
  {
   "cell_type": "code",
   "execution_count": 72,
   "metadata": {},
   "outputs": [],
   "source": [
    "## Preprocessing step 19\n",
    "\n",
    "dataset.drop(['post_code'],axis=1,inplace=True)"
   ]
  },
  {
   "cell_type": "code",
   "execution_count": null,
   "metadata": {},
   "outputs": [],
   "source": [
    "dataset.info()"
   ]
  },
  {
   "cell_type": "code",
   "execution_count": 77,
   "metadata": {},
   "outputs": [
    {
     "name": "stdout",
     "output_type": "stream",
     "text": [
      "The shape of data after all preprocessing (10154, 84)\n"
     ]
    }
   ],
   "source": [
    "print('The shape of data after all preprocessing',dataset.shape)"
   ]
  },
  {
   "cell_type": "markdown",
   "metadata": {},
   "source": [
    "## Test Train Split"
   ]
  },
  {
   "cell_type": "code",
   "execution_count": 78,
   "metadata": {
    "collapsed": true,
    "jupyter": {
     "outputs_hidden": true
    }
   },
   "outputs": [
    {
     "name": "stdout",
     "output_type": "stream",
     "text": [
      "original dataset Revenue Grid mean: 0.107\n",
      "\n",
      "after train_test_split\n",
      "train dataset Revenue Grid mean: 0.107\n",
      "test dataset Revenue Grid mean: 0.105\n",
      "\n",
      "after train_test stratified split\n",
      "train dataset Revenue Grid mean: 0.107\n",
      "test dataset Revenue Grid mean: 0.107\n"
     ]
    }
   ],
   "source": [
    "## Preprocessing step 20\n",
    "\n",
    "# train_test_split\n",
    "print(\"original dataset Revenue Grid mean:\", round(dataset[\"Revenue Grid\"].mean(),3))\n",
    "\n",
    "print(\"\\nafter train_test_split\")\n",
    "train, test = train_test_split(dataset,test_size =0.2)\n",
    "print(      \"train dataset Revenue Grid mean:\",round(train[\"Revenue Grid\"].mean(),3))\n",
    "print(\"test dataset Revenue Grid mean:\", round(test[\"Revenue Grid\"].mean(),3))\n",
    "\n",
    "# stratified train_test_split\n",
    "print(\"\\nafter train_test stratified split\")\n",
    "train, test = train_test_split(dataset,test_size =0.2, stratify=dataset[\"Revenue Grid\"])\n",
    "print(      \"train dataset Revenue Grid mean:\",round(train[\"Revenue Grid\"].mean(),3))\n",
    "print(\"test dataset Revenue Grid mean:\", round(test[\"Revenue Grid\"].mean(),3))\n",
    "\n",
    "##INSIGHTS\n",
    "# opting for a stratified train_test_split"
   ]
  },
  {
   "cell_type": "code",
   "execution_count": null,
   "metadata": {},
   "outputs": [],
   "source": [
    "train.head() \n",
    "\n",
    "## INSIGHTS\n",
    "# scaling needs to be done\n",
    "# x,y split is pending"
   ]
  },
  {
   "cell_type": "markdown",
   "metadata": {},
   "source": [
    "## features/target split"
   ]
  },
  {
   "cell_type": "code",
   "execution_count": null,
   "metadata": {},
   "outputs": [],
   "source": [
    "train.shape # training dataset"
   ]
  },
  {
   "cell_type": "code",
   "execution_count": 79,
   "metadata": {},
   "outputs": [
    {
     "data": {
      "text/plain": [
       "(8123, 83)"
      ]
     },
     "execution_count": 79,
     "metadata": {},
     "output_type": "execute_result"
    }
   ],
   "source": [
    "## Preprocessing step 21\n",
    "\n",
    "x_train = train.drop(['Revenue Grid'], axis=1)\n",
    "y_train = train['Revenue Grid']\n",
    "x_train.shape"
   ]
  },
  {
   "cell_type": "code",
   "execution_count": null,
   "metadata": {},
   "outputs": [],
   "source": [
    "test.shape # testing dataset"
   ]
  },
  {
   "cell_type": "code",
   "execution_count": 80,
   "metadata": {},
   "outputs": [
    {
     "data": {
      "text/plain": [
       "(2031, 83)"
      ]
     },
     "execution_count": 80,
     "metadata": {},
     "output_type": "execute_result"
    }
   ],
   "source": [
    "## Preprocessing step 22\n",
    "\n",
    "x_test= test.drop(['Revenue Grid'],axis=1)\n",
    "y_test = test['Revenue Grid']\n",
    "x_test.shape"
   ]
  },
  {
   "cell_type": "markdown",
   "metadata": {},
   "source": [
    "## Scaling the data"
   ]
  },
  {
   "cell_type": "code",
   "execution_count": null,
   "metadata": {},
   "outputs": [],
   "source": [
    "numeric_columns # selecting only the numeric columns for scaling, rest of the columns are all onehot encoded"
   ]
  },
  {
   "cell_type": "code",
   "execution_count": 81,
   "metadata": {},
   "outputs": [],
   "source": [
    "## Preprocessing step 23\n",
    "\n",
    "numeric_cols_list=list(numeric_columns)\n",
    "numeric_cols_list.remove('REF_NO') # removing REF_NO from numeric_cols_list, as that column is already dropped\n",
    "numeric_cols_list.remove('Revenue Grid')  # removing revenue grid from numeric_cols_list, as that is the target variable"
   ]
  },
  {
   "cell_type": "code",
   "execution_count": 82,
   "metadata": {},
   "outputs": [],
   "source": [
    "## Preprocessing step 24\n",
    "\n",
    "scaler = StandardScaler() # z-score normalization\n",
    "x_train[numeric_cols_list] = scaler.fit_transform(x_train[numeric_cols_list]) # Fit to data, then transform it.\n",
    "x_test[numeric_cols_list] = scaler.transform(x_test[numeric_cols_list])"
   ]
  },
  {
   "cell_type": "code",
   "execution_count": null,
   "metadata": {},
   "outputs": [],
   "source": [
    "x_train.head() # scaled x_train"
   ]
  },
  {
   "cell_type": "code",
   "execution_count": null,
   "metadata": {},
   "outputs": [],
   "source": [
    "x_test.head() # scaled x_test"
   ]
  },
  {
   "cell_type": "code",
   "execution_count": 83,
   "metadata": {},
   "outputs": [
    {
     "data": {
      "text/html": [
       "<div>\n",
       "<style scoped>\n",
       "    .dataframe tbody tr th:only-of-type {\n",
       "        vertical-align: middle;\n",
       "    }\n",
       "\n",
       "    .dataframe tbody tr th {\n",
       "        vertical-align: top;\n",
       "    }\n",
       "\n",
       "    .dataframe thead th {\n",
       "        text-align: right;\n",
       "    }\n",
       "</style>\n",
       "<table border=\"1\" class=\"dataframe\">\n",
       "  <thead>\n",
       "    <tr style=\"text-align: right;\">\n",
       "      <th></th>\n",
       "      <th>year_last_moved</th>\n",
       "      <th>Average Credit Card Transaction</th>\n",
       "      <th>Balance Transfer</th>\n",
       "      <th>Term Deposit</th>\n",
       "      <th>Life Insurance</th>\n",
       "      <th>Medical Insurance</th>\n",
       "      <th>Average A/C Balance</th>\n",
       "      <th>Personal Loan</th>\n",
       "      <th>Investment in Mutual Fund</th>\n",
       "      <th>Investment Tax Saving Bond</th>\n",
       "      <th>Home Loan</th>\n",
       "      <th>Online Purchase Amount</th>\n",
       "      <th>Investment in Commudity</th>\n",
       "      <th>Investment in Equity</th>\n",
       "      <th>Investment in Derivative</th>\n",
       "      <th>Portfolio Balance</th>\n",
       "      <th>chidren_2</th>\n",
       "      <th>chidren_3+</th>\n",
       "      <th>chidren_Zero</th>\n",
       "      <th>age_band_22-25</th>\n",
       "      <th>age_band_26-30</th>\n",
       "      <th>age_band_31-35</th>\n",
       "      <th>age_band_36-40</th>\n",
       "      <th>age_band_41-45</th>\n",
       "      <th>age_band_45-50</th>\n",
       "      <th>age_band_51-55</th>\n",
       "      <th>age_band_55-60</th>\n",
       "      <th>age_band_61-65</th>\n",
       "      <th>age_band_65-70</th>\n",
       "      <th>age_band_71+</th>\n",
       "      <th>age_band_Unknown</th>\n",
       "      <th>status_Partner</th>\n",
       "      <th>status_Single/Never Married</th>\n",
       "      <th>status_Unknown</th>\n",
       "      <th>status_Widowed</th>\n",
       "      <th>occupation_Housewife</th>\n",
       "      <th>occupation_Manual Worker</th>\n",
       "      <th>occupation_Other</th>\n",
       "      <th>occupation_Professional</th>\n",
       "      <th>occupation_Retired</th>\n",
       "      <th>occupation_Secretarial/Admin</th>\n",
       "      <th>occupation_Student</th>\n",
       "      <th>occupation_Unknown</th>\n",
       "      <th>occupation_partner_Housewife</th>\n",
       "      <th>occupation_partner_Manual Worker</th>\n",
       "      <th>occupation_partner_Other</th>\n",
       "      <th>occupation_partner_Professional</th>\n",
       "      <th>occupation_partner_Retired</th>\n",
       "      <th>occupation_partner_Secretarial/Admin</th>\n",
       "      <th>occupation_partner_Student</th>\n",
       "      <th>occupation_partner_Unknown</th>\n",
       "      <th>home_status_Own Home</th>\n",
       "      <th>home_status_Rent Privately</th>\n",
       "      <th>home_status_Rent from Council/HA</th>\n",
       "      <th>home_status_Unclassified</th>\n",
       "      <th>income_&lt; 8,000, &gt;= 4,000</th>\n",
       "      <th>income_&lt;10,000, &gt;= 8,000</th>\n",
       "      <th>income_&lt;12,500, &gt;=10,000</th>\n",
       "      <th>income_&lt;15,000, &gt;=12,500</th>\n",
       "      <th>income_&lt;17,500, &gt;=15,000</th>\n",
       "      <th>income_&lt;20,000, &gt;=17,500</th>\n",
       "      <th>income_&lt;22,500, &gt;=20,000</th>\n",
       "      <th>income_&lt;25,000, &gt;=22,500</th>\n",
       "      <th>income_&lt;27,500, &gt;=25,000</th>\n",
       "      <th>income_&lt;30,000, &gt;=27,500</th>\n",
       "      <th>income_&gt;=35,000</th>\n",
       "      <th>income_Unknown</th>\n",
       "      <th>self_employed_Yes</th>\n",
       "      <th>self_employed_partner_Yes</th>\n",
       "      <th>gender_Male</th>\n",
       "      <th>gender_Unknown</th>\n",
       "      <th>region_East Anglia</th>\n",
       "      <th>region_East Midlands</th>\n",
       "      <th>region_Isle of Man</th>\n",
       "      <th>region_North</th>\n",
       "      <th>region_North West</th>\n",
       "      <th>region_Northern Ireland</th>\n",
       "      <th>region_Scotland</th>\n",
       "      <th>region_South East</th>\n",
       "      <th>region_South West</th>\n",
       "      <th>region_Unknown</th>\n",
       "      <th>region_Wales</th>\n",
       "      <th>region_West Midlands</th>\n",
       "      <th>year_last_moved</th>\n",
       "      <th>Average Credit Card Transaction</th>\n",
       "      <th>Balance Transfer</th>\n",
       "      <th>Term Deposit</th>\n",
       "      <th>Life Insurance</th>\n",
       "      <th>Medical Insurance</th>\n",
       "      <th>Average A/C Balance</th>\n",
       "      <th>Personal Loan</th>\n",
       "      <th>Investment in Mutual Fund</th>\n",
       "      <th>Investment Tax Saving Bond</th>\n",
       "      <th>Home Loan</th>\n",
       "      <th>Online Purchase Amount</th>\n",
       "      <th>Investment in Commudity</th>\n",
       "      <th>Investment in Equity</th>\n",
       "      <th>Investment in Derivative</th>\n",
       "      <th>Portfolio Balance</th>\n",
       "      <th>chidren_2</th>\n",
       "      <th>chidren_3+</th>\n",
       "      <th>chidren_Zero</th>\n",
       "      <th>age_band_22-25</th>\n",
       "      <th>age_band_26-30</th>\n",
       "      <th>age_band_31-35</th>\n",
       "      <th>age_band_36-40</th>\n",
       "      <th>age_band_41-45</th>\n",
       "      <th>age_band_45-50</th>\n",
       "      <th>age_band_51-55</th>\n",
       "      <th>age_band_55-60</th>\n",
       "      <th>age_band_61-65</th>\n",
       "      <th>age_band_65-70</th>\n",
       "      <th>age_band_71+</th>\n",
       "      <th>age_band_Unknown</th>\n",
       "      <th>status_Partner</th>\n",
       "      <th>status_Single/Never Married</th>\n",
       "      <th>status_Unknown</th>\n",
       "      <th>status_Widowed</th>\n",
       "      <th>occupation_Housewife</th>\n",
       "      <th>occupation_Manual Worker</th>\n",
       "      <th>occupation_Other</th>\n",
       "      <th>occupation_Professional</th>\n",
       "      <th>occupation_Retired</th>\n",
       "      <th>occupation_Secretarial/Admin</th>\n",
       "      <th>occupation_Student</th>\n",
       "      <th>occupation_Unknown</th>\n",
       "      <th>occupation_partner_Housewife</th>\n",
       "      <th>occupation_partner_Manual Worker</th>\n",
       "      <th>occupation_partner_Other</th>\n",
       "      <th>occupation_partner_Professional</th>\n",
       "      <th>occupation_partner_Retired</th>\n",
       "      <th>occupation_partner_Secretarial/Admin</th>\n",
       "      <th>occupation_partner_Student</th>\n",
       "      <th>occupation_partner_Unknown</th>\n",
       "      <th>home_status_Own Home</th>\n",
       "      <th>home_status_Rent Privately</th>\n",
       "      <th>home_status_Rent from Council/HA</th>\n",
       "      <th>home_status_Unclassified</th>\n",
       "      <th>income_&lt; 8,000, &gt;= 4,000</th>\n",
       "      <th>income_&lt;10,000, &gt;= 8,000</th>\n",
       "      <th>income_&lt;12,500, &gt;=10,000</th>\n",
       "      <th>income_&lt;15,000, &gt;=12,500</th>\n",
       "      <th>income_&lt;17,500, &gt;=15,000</th>\n",
       "      <th>income_&lt;20,000, &gt;=17,500</th>\n",
       "      <th>income_&lt;22,500, &gt;=20,000</th>\n",
       "      <th>income_&lt;25,000, &gt;=22,500</th>\n",
       "      <th>income_&lt;27,500, &gt;=25,000</th>\n",
       "      <th>income_&lt;30,000, &gt;=27,500</th>\n",
       "      <th>income_&gt;=35,000</th>\n",
       "      <th>income_Unknown</th>\n",
       "      <th>self_employed_Yes</th>\n",
       "      <th>self_employed_partner_Yes</th>\n",
       "      <th>gender_Male</th>\n",
       "      <th>gender_Unknown</th>\n",
       "      <th>region_East Anglia</th>\n",
       "      <th>region_East Midlands</th>\n",
       "      <th>region_Isle of Man</th>\n",
       "      <th>region_North</th>\n",
       "      <th>region_North West</th>\n",
       "      <th>region_Northern Ireland</th>\n",
       "      <th>region_Scotland</th>\n",
       "      <th>region_South East</th>\n",
       "      <th>region_South West</th>\n",
       "      <th>region_Unknown</th>\n",
       "      <th>region_Wales</th>\n",
       "      <th>region_West Midlands</th>\n",
       "    </tr>\n",
       "  </thead>\n",
       "  <tbody>\n",
       "    <tr>\n",
       "      <th>1953</th>\n",
       "      <td>0.120211</td>\n",
       "      <td>3.946197</td>\n",
       "      <td>11.159728</td>\n",
       "      <td>4.738209</td>\n",
       "      <td>1.802006</td>\n",
       "      <td>2.964611</td>\n",
       "      <td>1.125259</td>\n",
       "      <td>5.284937</td>\n",
       "      <td>1.537628</td>\n",
       "      <td>-0.505784</td>\n",
       "      <td>-0.490885</td>\n",
       "      <td>-0.345596</td>\n",
       "      <td>7.702692</td>\n",
       "      <td>4.555752</td>\n",
       "      <td>4.564942</td>\n",
       "      <td>5.814939</td>\n",
       "      <td>1</td>\n",
       "      <td>0</td>\n",
       "      <td>0</td>\n",
       "      <td>0</td>\n",
       "      <td>0</td>\n",
       "      <td>1</td>\n",
       "      <td>0</td>\n",
       "      <td>0</td>\n",
       "      <td>0</td>\n",
       "      <td>0</td>\n",
       "      <td>0</td>\n",
       "      <td>0</td>\n",
       "      <td>0</td>\n",
       "      <td>0</td>\n",
       "      <td>0</td>\n",
       "      <td>1</td>\n",
       "      <td>0</td>\n",
       "      <td>0</td>\n",
       "      <td>0</td>\n",
       "      <td>0</td>\n",
       "      <td>0</td>\n",
       "      <td>0</td>\n",
       "      <td>0</td>\n",
       "      <td>0</td>\n",
       "      <td>0</td>\n",
       "      <td>0</td>\n",
       "      <td>1</td>\n",
       "      <td>0</td>\n",
       "      <td>0</td>\n",
       "      <td>0</td>\n",
       "      <td>0</td>\n",
       "      <td>0</td>\n",
       "      <td>1</td>\n",
       "      <td>0</td>\n",
       "      <td>0</td>\n",
       "      <td>1</td>\n",
       "      <td>0</td>\n",
       "      <td>0</td>\n",
       "      <td>0</td>\n",
       "      <td>0</td>\n",
       "      <td>0</td>\n",
       "      <td>0</td>\n",
       "      <td>0</td>\n",
       "      <td>0</td>\n",
       "      <td>0</td>\n",
       "      <td>0</td>\n",
       "      <td>0</td>\n",
       "      <td>1</td>\n",
       "      <td>0</td>\n",
       "      <td>0</td>\n",
       "      <td>0</td>\n",
       "      <td>0</td>\n",
       "      <td>1</td>\n",
       "      <td>0</td>\n",
       "      <td>0</td>\n",
       "      <td>0</td>\n",
       "      <td>0</td>\n",
       "      <td>0</td>\n",
       "      <td>0</td>\n",
       "      <td>0</td>\n",
       "      <td>0</td>\n",
       "      <td>0</td>\n",
       "      <td>0</td>\n",
       "      <td>0</td>\n",
       "      <td>1</td>\n",
       "      <td>0</td>\n",
       "      <td>0</td>\n",
       "      <td>NaN</td>\n",
       "      <td>NaN</td>\n",
       "      <td>NaN</td>\n",
       "      <td>NaN</td>\n",
       "      <td>NaN</td>\n",
       "      <td>NaN</td>\n",
       "      <td>NaN</td>\n",
       "      <td>NaN</td>\n",
       "      <td>NaN</td>\n",
       "      <td>NaN</td>\n",
       "      <td>NaN</td>\n",
       "      <td>NaN</td>\n",
       "      <td>NaN</td>\n",
       "      <td>NaN</td>\n",
       "      <td>NaN</td>\n",
       "      <td>NaN</td>\n",
       "      <td>NaN</td>\n",
       "      <td>NaN</td>\n",
       "      <td>NaN</td>\n",
       "      <td>NaN</td>\n",
       "      <td>NaN</td>\n",
       "      <td>NaN</td>\n",
       "      <td>NaN</td>\n",
       "      <td>NaN</td>\n",
       "      <td>NaN</td>\n",
       "      <td>NaN</td>\n",
       "      <td>NaN</td>\n",
       "      <td>NaN</td>\n",
       "      <td>NaN</td>\n",
       "      <td>NaN</td>\n",
       "      <td>NaN</td>\n",
       "      <td>NaN</td>\n",
       "      <td>NaN</td>\n",
       "      <td>NaN</td>\n",
       "      <td>NaN</td>\n",
       "      <td>NaN</td>\n",
       "      <td>NaN</td>\n",
       "      <td>NaN</td>\n",
       "      <td>NaN</td>\n",
       "      <td>NaN</td>\n",
       "      <td>NaN</td>\n",
       "      <td>NaN</td>\n",
       "      <td>NaN</td>\n",
       "      <td>NaN</td>\n",
       "      <td>NaN</td>\n",
       "      <td>NaN</td>\n",
       "      <td>NaN</td>\n",
       "      <td>NaN</td>\n",
       "      <td>NaN</td>\n",
       "      <td>NaN</td>\n",
       "      <td>NaN</td>\n",
       "      <td>NaN</td>\n",
       "      <td>NaN</td>\n",
       "      <td>NaN</td>\n",
       "      <td>NaN</td>\n",
       "      <td>NaN</td>\n",
       "      <td>NaN</td>\n",
       "      <td>NaN</td>\n",
       "      <td>NaN</td>\n",
       "      <td>NaN</td>\n",
       "      <td>NaN</td>\n",
       "      <td>NaN</td>\n",
       "      <td>NaN</td>\n",
       "      <td>NaN</td>\n",
       "      <td>NaN</td>\n",
       "      <td>NaN</td>\n",
       "      <td>NaN</td>\n",
       "      <td>NaN</td>\n",
       "      <td>NaN</td>\n",
       "      <td>NaN</td>\n",
       "      <td>NaN</td>\n",
       "      <td>NaN</td>\n",
       "      <td>NaN</td>\n",
       "      <td>NaN</td>\n",
       "      <td>NaN</td>\n",
       "      <td>NaN</td>\n",
       "      <td>NaN</td>\n",
       "      <td>NaN</td>\n",
       "      <td>NaN</td>\n",
       "      <td>NaN</td>\n",
       "      <td>NaN</td>\n",
       "      <td>NaN</td>\n",
       "      <td>NaN</td>\n",
       "    </tr>\n",
       "    <tr>\n",
       "      <th>5084</th>\n",
       "      <td>0.164028</td>\n",
       "      <td>2.194016</td>\n",
       "      <td>11.187878</td>\n",
       "      <td>4.738209</td>\n",
       "      <td>2.532867</td>\n",
       "      <td>4.366204</td>\n",
       "      <td>3.420987</td>\n",
       "      <td>-0.447784</td>\n",
       "      <td>2.437859</td>\n",
       "      <td>0.416189</td>\n",
       "      <td>1.477674</td>\n",
       "      <td>-0.345596</td>\n",
       "      <td>8.596423</td>\n",
       "      <td>1.779134</td>\n",
       "      <td>3.912887</td>\n",
       "      <td>5.051029</td>\n",
       "      <td>0</td>\n",
       "      <td>0</td>\n",
       "      <td>1</td>\n",
       "      <td>1</td>\n",
       "      <td>0</td>\n",
       "      <td>0</td>\n",
       "      <td>0</td>\n",
       "      <td>0</td>\n",
       "      <td>0</td>\n",
       "      <td>0</td>\n",
       "      <td>0</td>\n",
       "      <td>0</td>\n",
       "      <td>0</td>\n",
       "      <td>0</td>\n",
       "      <td>0</td>\n",
       "      <td>0</td>\n",
       "      <td>1</td>\n",
       "      <td>0</td>\n",
       "      <td>0</td>\n",
       "      <td>0</td>\n",
       "      <td>0</td>\n",
       "      <td>0</td>\n",
       "      <td>1</td>\n",
       "      <td>0</td>\n",
       "      <td>0</td>\n",
       "      <td>0</td>\n",
       "      <td>0</td>\n",
       "      <td>0</td>\n",
       "      <td>0</td>\n",
       "      <td>0</td>\n",
       "      <td>0</td>\n",
       "      <td>0</td>\n",
       "      <td>0</td>\n",
       "      <td>0</td>\n",
       "      <td>1</td>\n",
       "      <td>0</td>\n",
       "      <td>0</td>\n",
       "      <td>0</td>\n",
       "      <td>0</td>\n",
       "      <td>0</td>\n",
       "      <td>0</td>\n",
       "      <td>0</td>\n",
       "      <td>0</td>\n",
       "      <td>0</td>\n",
       "      <td>0</td>\n",
       "      <td>0</td>\n",
       "      <td>0</td>\n",
       "      <td>0</td>\n",
       "      <td>1</td>\n",
       "      <td>0</td>\n",
       "      <td>0</td>\n",
       "      <td>0</td>\n",
       "      <td>0</td>\n",
       "      <td>1</td>\n",
       "      <td>0</td>\n",
       "      <td>0</td>\n",
       "      <td>0</td>\n",
       "      <td>0</td>\n",
       "      <td>0</td>\n",
       "      <td>0</td>\n",
       "      <td>0</td>\n",
       "      <td>0</td>\n",
       "      <td>1</td>\n",
       "      <td>0</td>\n",
       "      <td>0</td>\n",
       "      <td>0</td>\n",
       "      <td>0</td>\n",
       "      <td>NaN</td>\n",
       "      <td>NaN</td>\n",
       "      <td>NaN</td>\n",
       "      <td>NaN</td>\n",
       "      <td>NaN</td>\n",
       "      <td>NaN</td>\n",
       "      <td>NaN</td>\n",
       "      <td>NaN</td>\n",
       "      <td>NaN</td>\n",
       "      <td>NaN</td>\n",
       "      <td>NaN</td>\n",
       "      <td>NaN</td>\n",
       "      <td>NaN</td>\n",
       "      <td>NaN</td>\n",
       "      <td>NaN</td>\n",
       "      <td>NaN</td>\n",
       "      <td>NaN</td>\n",
       "      <td>NaN</td>\n",
       "      <td>NaN</td>\n",
       "      <td>NaN</td>\n",
       "      <td>NaN</td>\n",
       "      <td>NaN</td>\n",
       "      <td>NaN</td>\n",
       "      <td>NaN</td>\n",
       "      <td>NaN</td>\n",
       "      <td>NaN</td>\n",
       "      <td>NaN</td>\n",
       "      <td>NaN</td>\n",
       "      <td>NaN</td>\n",
       "      <td>NaN</td>\n",
       "      <td>NaN</td>\n",
       "      <td>NaN</td>\n",
       "      <td>NaN</td>\n",
       "      <td>NaN</td>\n",
       "      <td>NaN</td>\n",
       "      <td>NaN</td>\n",
       "      <td>NaN</td>\n",
       "      <td>NaN</td>\n",
       "      <td>NaN</td>\n",
       "      <td>NaN</td>\n",
       "      <td>NaN</td>\n",
       "      <td>NaN</td>\n",
       "      <td>NaN</td>\n",
       "      <td>NaN</td>\n",
       "      <td>NaN</td>\n",
       "      <td>NaN</td>\n",
       "      <td>NaN</td>\n",
       "      <td>NaN</td>\n",
       "      <td>NaN</td>\n",
       "      <td>NaN</td>\n",
       "      <td>NaN</td>\n",
       "      <td>NaN</td>\n",
       "      <td>NaN</td>\n",
       "      <td>NaN</td>\n",
       "      <td>NaN</td>\n",
       "      <td>NaN</td>\n",
       "      <td>NaN</td>\n",
       "      <td>NaN</td>\n",
       "      <td>NaN</td>\n",
       "      <td>NaN</td>\n",
       "      <td>NaN</td>\n",
       "      <td>NaN</td>\n",
       "      <td>NaN</td>\n",
       "      <td>NaN</td>\n",
       "      <td>NaN</td>\n",
       "      <td>NaN</td>\n",
       "      <td>NaN</td>\n",
       "      <td>NaN</td>\n",
       "      <td>NaN</td>\n",
       "      <td>NaN</td>\n",
       "      <td>NaN</td>\n",
       "      <td>NaN</td>\n",
       "      <td>NaN</td>\n",
       "      <td>NaN</td>\n",
       "      <td>NaN</td>\n",
       "      <td>NaN</td>\n",
       "      <td>NaN</td>\n",
       "      <td>NaN</td>\n",
       "      <td>NaN</td>\n",
       "      <td>NaN</td>\n",
       "      <td>NaN</td>\n",
       "      <td>NaN</td>\n",
       "      <td>NaN</td>\n",
       "    </tr>\n",
       "  </tbody>\n",
       "</table>\n",
       "</div>"
      ],
      "text/plain": [
       "      year_last_moved  Average Credit Card Transaction  Balance Transfer  \\\n",
       "1953         0.120211                         3.946197         11.159728   \n",
       "5084         0.164028                         2.194016         11.187878   \n",
       "\n",
       "      Term Deposit  Life Insurance  Medical Insurance  Average A/C Balance  \\\n",
       "1953      4.738209        1.802006           2.964611             1.125259   \n",
       "5084      4.738209        2.532867           4.366204             3.420987   \n",
       "\n",
       "      Personal Loan  Investment in Mutual Fund  Investment Tax Saving Bond  \\\n",
       "1953       5.284937                   1.537628                   -0.505784   \n",
       "5084      -0.447784                   2.437859                    0.416189   \n",
       "\n",
       "      Home Loan  Online Purchase Amount  Investment in Commudity  \\\n",
       "1953  -0.490885               -0.345596                 7.702692   \n",
       "5084   1.477674               -0.345596                 8.596423   \n",
       "\n",
       "      Investment in Equity  Investment in Derivative  Portfolio Balance  \\\n",
       "1953              4.555752                  4.564942           5.814939   \n",
       "5084              1.779134                  3.912887           5.051029   \n",
       "\n",
       "      chidren_2  chidren_3+  chidren_Zero  age_band_22-25  age_band_26-30  \\\n",
       "1953          1           0             0               0               0   \n",
       "5084          0           0             1               1               0   \n",
       "\n",
       "      age_band_31-35  age_band_36-40  age_band_41-45  age_band_45-50  \\\n",
       "1953               1               0               0               0   \n",
       "5084               0               0               0               0   \n",
       "\n",
       "      age_band_51-55  age_band_55-60  age_band_61-65  age_band_65-70  \\\n",
       "1953               0               0               0               0   \n",
       "5084               0               0               0               0   \n",
       "\n",
       "      age_band_71+  age_band_Unknown  status_Partner  \\\n",
       "1953             0                 0               1   \n",
       "5084             0                 0               0   \n",
       "\n",
       "      status_Single/Never Married  status_Unknown  status_Widowed  \\\n",
       "1953                            0               0               0   \n",
       "5084                            1               0               0   \n",
       "\n",
       "      occupation_Housewife  occupation_Manual Worker  occupation_Other  \\\n",
       "1953                     0                         0                 0   \n",
       "5084                     0                         0                 0   \n",
       "\n",
       "      occupation_Professional  occupation_Retired  \\\n",
       "1953                        0                   0   \n",
       "5084                        1                   0   \n",
       "\n",
       "      occupation_Secretarial/Admin  occupation_Student  occupation_Unknown  \\\n",
       "1953                             0                   0                   1   \n",
       "5084                             0                   0                   0   \n",
       "\n",
       "      occupation_partner_Housewife  occupation_partner_Manual Worker  \\\n",
       "1953                             0                                 0   \n",
       "5084                             0                                 0   \n",
       "\n",
       "      occupation_partner_Other  occupation_partner_Professional  \\\n",
       "1953                         0                                0   \n",
       "5084                         0                                0   \n",
       "\n",
       "      occupation_partner_Retired  occupation_partner_Secretarial/Admin  \\\n",
       "1953                           0                                     1   \n",
       "5084                           0                                     0   \n",
       "\n",
       "      occupation_partner_Student  occupation_partner_Unknown  \\\n",
       "1953                           0                           0   \n",
       "5084                           0                           1   \n",
       "\n",
       "      home_status_Own Home  home_status_Rent Privately  \\\n",
       "1953                     1                           0   \n",
       "5084                     0                           0   \n",
       "\n",
       "      home_status_Rent from Council/HA  home_status_Unclassified  \\\n",
       "1953                                 0                         0   \n",
       "5084                                 0                         0   \n",
       "\n",
       "      income_< 8,000, >= 4,000  income_<10,000, >= 8,000  \\\n",
       "1953                         0                         0   \n",
       "5084                         0                         0   \n",
       "\n",
       "      income_<12,500, >=10,000  income_<15,000, >=12,500  \\\n",
       "1953                         0                         0   \n",
       "5084                         0                         0   \n",
       "\n",
       "      income_<17,500, >=15,000  income_<20,000, >=17,500  \\\n",
       "1953                         0                         0   \n",
       "5084                         0                         0   \n",
       "\n",
       "      income_<22,500, >=20,000  income_<25,000, >=22,500  \\\n",
       "1953                         0                         0   \n",
       "5084                         0                         0   \n",
       "\n",
       "      income_<27,500, >=25,000  income_<30,000, >=27,500  income_>=35,000  \\\n",
       "1953                         1                         0                0   \n",
       "5084                         0                         1                0   \n",
       "\n",
       "      income_Unknown  self_employed_Yes  self_employed_partner_Yes  \\\n",
       "1953               0                  0                          1   \n",
       "5084               0                  0                          0   \n",
       "\n",
       "      gender_Male  gender_Unknown  region_East Anglia  region_East Midlands  \\\n",
       "1953            0               0                   0                     0   \n",
       "5084            1               0                   0                     0   \n",
       "\n",
       "      region_Isle of Man  region_North  region_North West  \\\n",
       "1953                   0             0                  0   \n",
       "5084                   0             0                  0   \n",
       "\n",
       "      region_Northern Ireland  region_Scotland  region_South East  \\\n",
       "1953                        0                0                  0   \n",
       "5084                        0                0                  1   \n",
       "\n",
       "      region_South West  region_Unknown  region_Wales  region_West Midlands  \\\n",
       "1953                  0               1             0                     0   \n",
       "5084                  0               0             0                     0   \n",
       "\n",
       "      year_last_moved  Average Credit Card Transaction  Balance Transfer  \\\n",
       "1953              NaN                              NaN               NaN   \n",
       "5084              NaN                              NaN               NaN   \n",
       "\n",
       "      Term Deposit  Life Insurance  Medical Insurance  Average A/C Balance  \\\n",
       "1953           NaN             NaN                NaN                  NaN   \n",
       "5084           NaN             NaN                NaN                  NaN   \n",
       "\n",
       "      Personal Loan  Investment in Mutual Fund  Investment Tax Saving Bond  \\\n",
       "1953            NaN                        NaN                         NaN   \n",
       "5084            NaN                        NaN                         NaN   \n",
       "\n",
       "      Home Loan  Online Purchase Amount  Investment in Commudity  \\\n",
       "1953        NaN                     NaN                      NaN   \n",
       "5084        NaN                     NaN                      NaN   \n",
       "\n",
       "      Investment in Equity  Investment in Derivative  Portfolio Balance  \\\n",
       "1953                   NaN                       NaN                NaN   \n",
       "5084                   NaN                       NaN                NaN   \n",
       "\n",
       "      chidren_2  chidren_3+  chidren_Zero  age_band_22-25  age_band_26-30  \\\n",
       "1953        NaN         NaN           NaN             NaN             NaN   \n",
       "5084        NaN         NaN           NaN             NaN             NaN   \n",
       "\n",
       "      age_band_31-35  age_band_36-40  age_band_41-45  age_band_45-50  \\\n",
       "1953             NaN             NaN             NaN             NaN   \n",
       "5084             NaN             NaN             NaN             NaN   \n",
       "\n",
       "      age_band_51-55  age_band_55-60  age_band_61-65  age_band_65-70  \\\n",
       "1953             NaN             NaN             NaN             NaN   \n",
       "5084             NaN             NaN             NaN             NaN   \n",
       "\n",
       "      age_band_71+  age_band_Unknown  status_Partner  \\\n",
       "1953           NaN               NaN             NaN   \n",
       "5084           NaN               NaN             NaN   \n",
       "\n",
       "      status_Single/Never Married  status_Unknown  status_Widowed  \\\n",
       "1953                          NaN             NaN             NaN   \n",
       "5084                          NaN             NaN             NaN   \n",
       "\n",
       "      occupation_Housewife  occupation_Manual Worker  occupation_Other  \\\n",
       "1953                   NaN                       NaN               NaN   \n",
       "5084                   NaN                       NaN               NaN   \n",
       "\n",
       "      occupation_Professional  occupation_Retired  \\\n",
       "1953                      NaN                 NaN   \n",
       "5084                      NaN                 NaN   \n",
       "\n",
       "      occupation_Secretarial/Admin  occupation_Student  occupation_Unknown  \\\n",
       "1953                           NaN                 NaN                 NaN   \n",
       "5084                           NaN                 NaN                 NaN   \n",
       "\n",
       "      occupation_partner_Housewife  occupation_partner_Manual Worker  \\\n",
       "1953                           NaN                               NaN   \n",
       "5084                           NaN                               NaN   \n",
       "\n",
       "      occupation_partner_Other  occupation_partner_Professional  \\\n",
       "1953                       NaN                              NaN   \n",
       "5084                       NaN                              NaN   \n",
       "\n",
       "      occupation_partner_Retired  occupation_partner_Secretarial/Admin  \\\n",
       "1953                         NaN                                   NaN   \n",
       "5084                         NaN                                   NaN   \n",
       "\n",
       "      occupation_partner_Student  occupation_partner_Unknown  \\\n",
       "1953                         NaN                         NaN   \n",
       "5084                         NaN                         NaN   \n",
       "\n",
       "      home_status_Own Home  home_status_Rent Privately  \\\n",
       "1953                   NaN                         NaN   \n",
       "5084                   NaN                         NaN   \n",
       "\n",
       "      home_status_Rent from Council/HA  home_status_Unclassified  \\\n",
       "1953                               NaN                       NaN   \n",
       "5084                               NaN                       NaN   \n",
       "\n",
       "      income_< 8,000, >= 4,000  income_<10,000, >= 8,000  \\\n",
       "1953                       NaN                       NaN   \n",
       "5084                       NaN                       NaN   \n",
       "\n",
       "      income_<12,500, >=10,000  income_<15,000, >=12,500  \\\n",
       "1953                       NaN                       NaN   \n",
       "5084                       NaN                       NaN   \n",
       "\n",
       "      income_<17,500, >=15,000  income_<20,000, >=17,500  \\\n",
       "1953                       NaN                       NaN   \n",
       "5084                       NaN                       NaN   \n",
       "\n",
       "      income_<22,500, >=20,000  income_<25,000, >=22,500  \\\n",
       "1953                       NaN                       NaN   \n",
       "5084                       NaN                       NaN   \n",
       "\n",
       "      income_<27,500, >=25,000  income_<30,000, >=27,500  income_>=35,000  \\\n",
       "1953                       NaN                       NaN              NaN   \n",
       "5084                       NaN                       NaN              NaN   \n",
       "\n",
       "      income_Unknown  self_employed_Yes  self_employed_partner_Yes  \\\n",
       "1953             NaN                NaN                        NaN   \n",
       "5084             NaN                NaN                        NaN   \n",
       "\n",
       "      gender_Male  gender_Unknown  region_East Anglia  region_East Midlands  \\\n",
       "1953          NaN             NaN                 NaN                   NaN   \n",
       "5084          NaN             NaN                 NaN                   NaN   \n",
       "\n",
       "      region_Isle of Man  region_North  region_North West  \\\n",
       "1953                 NaN           NaN                NaN   \n",
       "5084                 NaN           NaN                NaN   \n",
       "\n",
       "      region_Northern Ireland  region_Scotland  region_South East  \\\n",
       "1953                      NaN              NaN                NaN   \n",
       "5084                      NaN              NaN                NaN   \n",
       "\n",
       "      region_South West  region_Unknown  region_Wales  region_West Midlands  \n",
       "1953                NaN             NaN           NaN                   NaN  \n",
       "5084                NaN             NaN           NaN                   NaN  "
      ]
     },
     "execution_count": 83,
     "metadata": {},
     "output_type": "execute_result"
    }
   ],
   "source": [
    "pd.concat([x_train[x_train[\"Balance Transfer\"]>11],x_test[x_test[\"Balance Transfer\"]>11]],axis=1) \n",
    "# some values as high as 11 also present in dataset (after z-scale normalization)"
   ]
  },
  {
   "cell_type": "markdown",
   "metadata": {},
   "source": [
    "## Modelling"
   ]
  },
  {
   "cell_type": "markdown",
   "metadata": {},
   "source": [
    "### Logistic Regression model"
   ]
  },
  {
   "cell_type": "code",
   "execution_count": 84,
   "metadata": {},
   "outputs": [
    {
     "data": {
      "text/plain": [
       "LogisticRegression(max_iter=150)"
      ]
     },
     "execution_count": 84,
     "metadata": {},
     "output_type": "execute_result"
    }
   ],
   "source": [
    "LR_model= LogisticRegression(max_iter=150)\n",
    "LR_model.fit(x_train,y_train)"
   ]
  },
  {
   "cell_type": "code",
   "execution_count": 85,
   "metadata": {},
   "outputs": [
    {
     "name": "stdout",
     "output_type": "stream",
     "text": [
      "[0 0 0 ... 0 0 0]\n"
     ]
    }
   ],
   "source": [
    "y_pred_lr = LR_model.predict(x_train)\n",
    "print(y_pred_lr) # predicted outputs for training dataset"
   ]
  },
  {
   "cell_type": "code",
   "execution_count": 86,
   "metadata": {
    "collapsed": true,
    "jupyter": {
     "outputs_hidden": true
    }
   },
   "outputs": [
    {
     "data": {
      "text/plain": [
       "array([[0.99828889, 0.00171111],\n",
       "       [0.98667793, 0.01332207],\n",
       "       [0.89270551, 0.10729449],\n",
       "       ...,\n",
       "       [0.87373332, 0.12626668],\n",
       "       [0.8579431 , 0.1420569 ],\n",
       "       [0.99856753, 0.00143247]])"
      ]
     },
     "execution_count": 86,
     "metadata": {},
     "output_type": "execute_result"
    }
   ],
   "source": [
    "# predicted probabilites for training dataset\n",
    "y_pred_lr_probs=LR_model.predict_proba(x_train)\n",
    "y_pred_lr_probs"
   ]
  },
  {
   "cell_type": "code",
   "execution_count": 87,
   "metadata": {},
   "outputs": [
    {
     "data": {
      "text/plain": [
       "(636, 636, 636)"
      ]
     },
     "execution_count": 87,
     "metadata": {},
     "output_type": "execute_result"
    }
   ],
   "source": [
    "# roc_curve() returns fpr, tpr, thresholds\n",
    "fpr_lr, tpr_lr, _ = roc_curve(y_true=y_train, y_score=y_pred_lr_probs[:,1])  # y_score = passing probability estimates of class 1\n",
    "\n",
    "# INSIGHTS\n",
    "# fpr = FP/(FP+TN)\n",
    "# tpr = TP/(TP+FN)\n",
    "# fpr and tpr corresponding to each thresholds are returned by roc_curve()\n",
    "# fpr_lr is increasing from 0 to 1\n",
    "# tpr_lr is increasing from 0 to 1\n",
    "# _[0] represents no instances being predicted and is arbitrarily set to `max(y_score) + 1`.\n",
    "# threshold values are 2,0.99,....0\n",
    "len(fpr_lr),len(tpr_lr), len(_)"
   ]
  },
  {
   "cell_type": "markdown",
   "metadata": {},
   "source": [
    "#### Evaluating the performance of Logistic Regression model"
   ]
  },
  {
   "cell_type": "markdown",
   "metadata": {},
   "source": [
    "##### Plotting Area Under the ROC Curve"
   ]
  },
  {
   "cell_type": "code",
   "execution_count": 88,
   "metadata": {},
   "outputs": [
    {
     "name": "stdout",
     "output_type": "stream",
     "text": [
      "The auc score for the LR model  0.9488764264182803\n"
     ]
    },
    {
     "data": {
      "image/png": "[encoded data removed]",
      "text/plain": [
       "<Figure size 432x288 with 1 Axes>"
      ]
     },
     "metadata": {
      "needs_background": "light"
     },
     "output_type": "display_data"
    }
   ],
   "source": [
    "plot_roc_curve(LR_model,X =x_train, y= y_train,drop_intermediate=False, marker='.')\n",
    "\n",
    "print ('The auc score for the LR model ', roc_auc_score(y_train,y_pred_lr_probs[:,1]))"
   ]
  },
  {
   "cell_type": "code",
   "execution_count": 89,
   "metadata": {},
   "outputs": [
    {
     "name": "stdout",
     "output_type": "stream",
     "text": [
      "The auc score for the LR model  0.9488764264182803\n"
     ]
    },
    {
     "data": {
      "image/png": "[encoded data removed]",
      "text/plain": [
       "<Figure size 432x288 with 1 Axes>"
      ]
     },
     "metadata": {
      "needs_background": "light"
     },
     "output_type": "display_data"
    }
   ],
   "source": [
    "# same plot with drop_intermediate=True\n",
    "plot_roc_curve(LR_model,X =x_train, y= y_train, marker='.') # drop_intermediate=True by default, some suboptimal thresholds are dropped \n",
    "print ('The auc score for the LR model ', roc_auc_score(y_train,y_pred_lr_probs[:,1]))"
   ]
  },
  {
   "cell_type": "code",
   "execution_count": 90,
   "metadata": {},
   "outputs": [
    {
     "name": "stdout",
     "output_type": "stream",
     "text": [
      "Train Accuracy: 0.947\n",
      "Test Accuracy: 0.945\n"
     ]
    }
   ],
   "source": [
    "print(f\"Train Accuracy: {LR_model.score(x_train,y_train):.3f}\")\n",
    "print(f\"Test Accuracy: { LR_model.score(x_test,y_test):.3f}\" )"
   ]
  },
  {
   "cell_type": "code",
   "execution_count": 91,
   "metadata": {},
   "outputs": [
    {
     "name": "stdout",
     "output_type": "stream",
     "text": [
      "[[7147  107]\n",
      " [ 323  546]]\n",
      "The F1-SCORE on the train set prediction  0.7174770039421814\n",
      "The F1-SCORE on the train set prediction  0.771731448763251\n"
     ]
    }
   ],
   "source": [
    "# Getting confusion matrix, F-score on the train data\n",
    "\n",
    "print(confusion_matrix(y_true = y_train, y_pred = y_pred_lr))  # y_pred_lr is LR_model.predict(x_train)\n",
    "\n",
    "print ('The F1-SCORE on the train set prediction ', f1_score(y_true=y_train, y_pred = y_pred_lr))\n",
    "print ('The F1-SCORE on the train set prediction ', f1_score(y_true=y_train, y_pred = y_pred_lr, sample_weight = y_train))\n",
    "\n",
    "# INSIGHTS\n",
    "# AUC score and accuracy are good, but poor F1 scores - maybe because of class imbalance in the dataset."
   ]
  },
  {
   "cell_type": "code",
   "execution_count": 92,
   "metadata": {},
   "outputs": [
    {
     "name": "stdout",
     "output_type": "stream",
     "text": [
      "[[1780   34]\n",
      " [  77  140]]\n",
      "The F1-SCORE on the test set prediction  0.7843137254901961\n"
     ]
    }
   ],
   "source": [
    "# Getting confusion matrix, F-score on the test data\n",
    "\n",
    "y_test_pred_lr = LR_model.predict(x_test)\n",
    "print(confusion_matrix(y_true = y_test, y_pred = y_test_pred_lr))\n",
    "print ('The F1-SCORE on the test set prediction ', f1_score(y_true=y_test, y_pred = y_test_pred_lr, sample_weight = y_test))\n",
    "\n",
    "# INSIGHTS\n",
    "# Test data also accuracy is good, but F1 scores are less"
   ]
  },
  {
   "cell_type": "markdown",
   "metadata": {},
   "source": [
    "### Logistic Regression model with class_weight=\"balanced\", as there is a class imbalance in the dataset"
   ]
  },
  {
   "cell_type": "code",
   "execution_count": 93,
   "metadata": {},
   "outputs": [
    {
     "data": {
      "text/plain": [
       "LogisticRegression(class_weight='balanced', max_iter=180)"
      ]
     },
     "execution_count": 93,
     "metadata": {},
     "output_type": "execute_result"
    }
   ],
   "source": [
    "# we have only 10% of positive cases in the dataset, so using class_weight=\"balanced\", default was class_weight=None\n",
    "\n",
    "LR_model_balanced = LogisticRegression(max_iter=180, class_weight=\"balanced\")\n",
    "\n",
    "LR_model_balanced.fit(x_train,y_train)"
   ]
  },
  {
   "cell_type": "code",
   "execution_count": 94,
   "metadata": {},
   "outputs": [
    {
     "name": "stdout",
     "output_type": "stream",
     "text": [
      "[0 0 0 ... 1 1 0]\n"
     ]
    }
   ],
   "source": [
    "y_pred_lr = LR_model_balanced.predict(x_train)\n",
    "print(y_pred_lr)"
   ]
  },
  {
   "cell_type": "markdown",
   "metadata": {},
   "source": [
    "#### Evaluating the performance of Logistic Regression model with class_weight=\"balanced\""
   ]
  },
  {
   "cell_type": "code",
   "execution_count": 95,
   "metadata": {},
   "outputs": [
    {
     "name": "stdout",
     "output_type": "stream",
     "text": [
      "[[6624  630]\n",
      " [  85  784]]\n",
      "The F1-SCORE on the train set prediction  0.6868155935173018\n",
      "The F1-SCORE on the train set prediction  0.9485783424077435\n"
     ]
    }
   ],
   "source": [
    "# Getting confusion matrix, F1-score on the train data\n",
    "\n",
    "print(confusion_matrix(y_true = y_train, y_pred = y_pred_lr))  # y_pred_lr is LR_model.predict(x_train)\n",
    "print ('The F1-SCORE on the train set prediction ', f1_score(y_true=y_train, y_pred = y_pred_lr))\n",
    "print ('The F1-SCORE on the train set prediction ', f1_score(y_true=y_train, y_pred = y_pred_lr, sample_weight = y_train))"
   ]
  },
  {
   "cell_type": "code",
   "execution_count": 96,
   "metadata": {},
   "outputs": [
    {
     "name": "stdout",
     "output_type": "stream",
     "text": [
      "[[1641  173]\n",
      " [  21  196]]\n",
      "The F1-SCORE on the test set prediction  0.9491525423728813\n"
     ]
    }
   ],
   "source": [
    "# Getting confusion matrix, F-score on the test data\n",
    "\n",
    "y_test_pred_lr = LR_model_balanced.predict(x_test)\n",
    "print(confusion_matrix(y_true = y_test, y_pred = y_test_pred_lr))\n",
    "print ('The F1-SCORE on the test set prediction ', f1_score(y_true=y_test, y_pred = y_test_pred_lr, sample_weight = y_test))\n",
    "\n",
    "# INSIGHTS\n",
    "# F1-scores are improving when class_weight is balanced"
   ]
  },
  {
   "cell_type": "code",
   "execution_count": 97,
   "metadata": {},
   "outputs": [
    {
     "name": "stdout",
     "output_type": "stream",
     "text": [
      "Train Accuracy: 0.912\n",
      "Test Accuracy: 0.904\n"
     ]
    }
   ],
   "source": [
    "print(f\"Train Accuracy: {LR_model_balanced.score(x_train,y_train):.3f}\")\n",
    "print(f\"Test Accuracy: { LR_model_balanced.score(x_test,y_test):.3f}\" )\n",
    "\n",
    "# INSIGHTS\n",
    "# Accuracy have gone down slightly when class_weight is balanced"
   ]
  },
  {
   "cell_type": "markdown",
   "metadata": {},
   "source": [
    "##### Plotting Area Under the ROC Curve for LR_model_balanced with train data"
   ]
  },
  {
   "cell_type": "code",
   "execution_count": 98,
   "metadata": {},
   "outputs": [
    {
     "name": "stdout",
     "output_type": "stream",
     "text": [
      "The auc score for the LR model with train data: 0.958884316989666\n"
     ]
    },
    {
     "data": {
      "image/png": "[encoded data removed]",
      "text/plain": [
       "<Figure size 432x288 with 1 Axes>"
      ]
     },
     "metadata": {
      "needs_background": "light"
     },
     "output_type": "display_data"
    }
   ],
   "source": [
    "plot_roc_curve(LR_model_balanced,X =x_train, y= y_train, marker='.')\n",
    "print ('The auc score for the LR model with train data:', roc_auc_score(y_train,LR_model_balanced.predict_proba(x_train)[:,1]))\n",
    "\n",
    "# INSIGHTS\n",
    "# AUC score is almost same as the previous model (class_weight=None)"
   ]
  },
  {
   "cell_type": "markdown",
   "metadata": {},
   "source": [
    "##### Plotting Area Under the ROC Curve for LR_model_balanced with test data"
   ]
  },
  {
   "cell_type": "code",
   "execution_count": 99,
   "metadata": {},
   "outputs": [
    {
     "name": "stdout",
     "output_type": "stream",
     "text": [
      "The auc score for the LR model with test data: 0.9566505266259863\n"
     ]
    },
    {
     "data": {
      "image/png": "[encoded data removed]",
      "text/plain": [
       "<Figure size 432x288 with 1 Axes>"
      ]
     },
     "metadata": {
      "needs_background": "light"
     },
     "output_type": "display_data"
    }
   ],
   "source": [
    "plot_roc_curve(LR_model_balanced,X =x_test, y= y_test, marker='.')\n",
    "print ('The auc score for the LR model with test data:', roc_auc_score(y_test,LR_model_balanced.predict_proba(x_test)[:,1]))\n",
    "\n",
    "# INSIGHTS\n",
    "# Test AUC score is also almost same as train AUC score, no overfitting"
   ]
  },
  {
   "cell_type": "markdown",
   "metadata": {},
   "source": [
    "##### Are we using the right threshold for classification?"
   ]
  },
  {
   "cell_type": "code",
   "execution_count": 100,
   "metadata": {
    "collapsed": true,
    "jupyter": {
     "outputs_hidden": true
    }
   },
   "outputs": [
    {
     "data": {
      "text/html": [
       "<div>\n",
       "<style scoped>\n",
       "    .dataframe tbody tr th:only-of-type {\n",
       "        vertical-align: middle;\n",
       "    }\n",
       "\n",
       "    .dataframe tbody tr th {\n",
       "        vertical-align: top;\n",
       "    }\n",
       "\n",
       "    .dataframe thead th {\n",
       "        text-align: right;\n",
       "    }\n",
       "</style>\n",
       "<table border=\"1\" class=\"dataframe\">\n",
       "  <thead>\n",
       "    <tr style=\"text-align: right;\">\n",
       "      <th></th>\n",
       "      <th>0</th>\n",
       "      <th>1</th>\n",
       "    </tr>\n",
       "  </thead>\n",
       "  <tbody>\n",
       "    <tr>\n",
       "      <th>0</th>\n",
       "      <td>0.870403</td>\n",
       "      <td>0.129597</td>\n",
       "    </tr>\n",
       "    <tr>\n",
       "      <th>1</th>\n",
       "      <td>0.999713</td>\n",
       "      <td>0.000287</td>\n",
       "    </tr>\n",
       "    <tr>\n",
       "      <th>2</th>\n",
       "      <td>0.137318</td>\n",
       "      <td>0.862682</td>\n",
       "    </tr>\n",
       "    <tr>\n",
       "      <th>3</th>\n",
       "      <td>0.942082</td>\n",
       "      <td>0.057918</td>\n",
       "    </tr>\n",
       "    <tr>\n",
       "      <th>4</th>\n",
       "      <td>0.997912</td>\n",
       "      <td>0.002088</td>\n",
       "    </tr>\n",
       "    <tr>\n",
       "      <th>...</th>\n",
       "      <td>...</td>\n",
       "      <td>...</td>\n",
       "    </tr>\n",
       "    <tr>\n",
       "      <th>2026</th>\n",
       "      <td>0.922250</td>\n",
       "      <td>0.077750</td>\n",
       "    </tr>\n",
       "    <tr>\n",
       "      <th>2027</th>\n",
       "      <td>0.000487</td>\n",
       "      <td>0.999513</td>\n",
       "    </tr>\n",
       "    <tr>\n",
       "      <th>2028</th>\n",
       "      <td>0.663192</td>\n",
       "      <td>0.336808</td>\n",
       "    </tr>\n",
       "    <tr>\n",
       "      <th>2029</th>\n",
       "      <td>0.788133</td>\n",
       "      <td>0.211867</td>\n",
       "    </tr>\n",
       "    <tr>\n",
       "      <th>2030</th>\n",
       "      <td>0.266872</td>\n",
       "      <td>0.733128</td>\n",
       "    </tr>\n",
       "  </tbody>\n",
       "</table>\n",
       "<p>2031 rows × 2 columns</p>\n",
       "</div>"
      ],
      "text/plain": [
       "             0         1\n",
       "0     0.870403  0.129597\n",
       "1     0.999713  0.000287\n",
       "2     0.137318  0.862682\n",
       "3     0.942082  0.057918\n",
       "4     0.997912  0.002088\n",
       "...        ...       ...\n",
       "2026  0.922250  0.077750\n",
       "2027  0.000487  0.999513\n",
       "2028  0.663192  0.336808\n",
       "2029  0.788133  0.211867\n",
       "2030  0.266872  0.733128\n",
       "\n",
       "[2031 rows x 2 columns]"
      ]
     },
     "execution_count": 100,
     "metadata": {},
     "output_type": "execute_result"
    }
   ],
   "source": [
    "# predicted class probability for testing dataset\n",
    "pred_proba_df = pd.DataFrame(LR_model_balanced.predict_proba(x_test))\n",
    "pred_proba_df  "
   ]
  },
  {
   "cell_type": "code",
   "execution_count": 101,
   "metadata": {
    "collapsed": true,
    "jupyter": {
     "outputs_hidden": true
    }
   },
   "outputs": [
    {
     "name": "stdout",
     "output_type": "stream",
     "text": [
      "\n",
      "******** For threshold = 0.15 ******\n",
      "[[1280  534]\n",
      " [   5  212]]\n",
      "Our testing accuracy is 0.735\n",
      "The F1-SCORE on the test set prediction 0.99\n",
      "\n",
      "******** For threshold = 0.2 ******\n",
      "[[1384  430]\n",
      " [   5  212]]\n",
      "Our testing accuracy is 0.786\n",
      "The F1-SCORE on the test set prediction 0.99\n",
      "\n",
      "******** For threshold = 0.25 ******\n",
      "[[1455  359]\n",
      " [   8  209]]\n",
      "Our testing accuracy is 0.819\n",
      "The F1-SCORE on the test set prediction 0.98\n",
      "\n",
      "******** For threshold = 0.3 ******\n",
      "[[1496  318]\n",
      " [  12  205]]\n",
      "Our testing accuracy is 0.838\n",
      "The F1-SCORE on the test set prediction 0.97\n",
      "\n",
      "******** For threshold = 0.35 ******\n",
      "[[1539  275]\n",
      " [  13  204]]\n",
      "Our testing accuracy is 0.858\n",
      "The F1-SCORE on the test set prediction 0.97\n",
      "\n",
      "******** For threshold = 0.4 ******\n",
      "[[1583  231]\n",
      " [  15  202]]\n",
      "Our testing accuracy is 0.879\n",
      "The F1-SCORE on the test set prediction 0.96\n",
      "\n",
      "******** For threshold = 0.45 ******\n",
      "[[1615  199]\n",
      " [  18  199]]\n",
      "Our testing accuracy is 0.893\n",
      "The F1-SCORE on the test set prediction 0.96\n",
      "\n",
      "******** For threshold = 0.5 ******\n",
      "[[1641  173]\n",
      " [  21  196]]\n",
      "Our testing accuracy is 0.904\n",
      "The F1-SCORE on the test set prediction 0.95\n",
      "\n",
      "******** For threshold = 0.55 ******\n",
      "[[1663  151]\n",
      " [  28  189]]\n",
      "Our testing accuracy is 0.912\n",
      "The F1-SCORE on the test set prediction 0.93\n",
      "\n",
      "******** For threshold = 0.6 ******\n",
      "[[1678  136]\n",
      " [  31  186]]\n",
      "Our testing accuracy is 0.918\n",
      "The F1-SCORE on the test set prediction 0.92\n",
      "\n",
      "******** For threshold = 0.65 ******\n",
      "[[1695  119]\n",
      " [  38  179]]\n",
      "Our testing accuracy is 0.923\n",
      "The F1-SCORE on the test set prediction 0.9\n",
      "\n",
      "******** For threshold = 0.7 ******\n",
      "[[1706  108]\n",
      " [  43  174]]\n",
      "Our testing accuracy is 0.926\n",
      "The F1-SCORE on the test set prediction 0.89\n",
      "\n",
      "******** For threshold = 0.75 ******\n",
      "[[1723   91]\n",
      " [  48  169]]\n",
      "Our testing accuracy is 0.932\n",
      "The F1-SCORE on the test set prediction 0.88\n",
      "\n",
      "******** For threshold = 0.8 ******\n",
      "[[1736   78]\n",
      " [  56  161]]\n",
      "Our testing accuracy is 0.934\n",
      "The F1-SCORE on the test set prediction 0.85\n",
      "\n",
      "******** For threshold = 0.85 ******\n",
      "[[1753   61]\n",
      " [  67  150]]\n",
      "Our testing accuracy is 0.937\n",
      "The F1-SCORE on the test set prediction 0.82\n",
      "\n",
      "******** For threshold = 0.9 ******\n",
      "[[1767   47]\n",
      " [  80  137]]\n",
      "Our testing accuracy is 0.937\n",
      "The F1-SCORE on the test set prediction 0.77\n",
      "\n",
      "******** For threshold = 0.95 ******\n",
      "[[1789   25]\n",
      " [  97  120]]\n",
      "Our testing accuracy is 0.94\n",
      "The F1-SCORE on the test set prediction 0.71\n"
     ]
    }
   ],
   "source": [
    "# sample thresholds to be used as classification decision boundary\n",
    "threshold_list = [0.15,0.2,0.25,0.3,0.35,0.4,0.45,0.5,0.55,0.6,0.65,.7,.75,.8,.85,.9,.95]\n",
    "\n",
    "for i in threshold_list:\n",
    "    \n",
    "    print ('\\n******** For threshold = {} ******'.format(i))\n",
    "    \n",
    "    y_test_pred = pred_proba_df.applymap(lambda x: 1 if x>i else 0) # applying lamdba fn to every element in df and returns the transformed df\n",
    "    test_accuracy = accuracy_score(y_test,y_test_pred.iloc[:,1])\n",
    "    \n",
    "    print(confusion_matrix(y_true=y_test, y_pred = y_test_pred.iloc[:,1]))\n",
    "    print('Our testing accuracy is {}'.format(round(test_accuracy,3)))\n",
    "    print('The F1-SCORE on the test set prediction', round(f1_score(y_true=y_test, y_pred = y_test_pred.iloc[:,1], sample_weight = y_test),2))\n",
    "    \n",
    "# INSIGHTS\n",
    "# default threshold used by Logistic Regression model is 0.5\n",
    "# based on the business understanding, which metric/s are more important can be decided and threshold can be chosen accordingly."
   ]
  },
  {
   "cell_type": "markdown",
   "metadata": {},
   "source": [
    "### Decision tree model"
   ]
  },
  {
   "cell_type": "code",
   "execution_count": 102,
   "metadata": {},
   "outputs": [],
   "source": [
    "# Creating a decision tree classifier\n",
    "clf_dt=DecisionTreeClassifier(class_weight=\"balanced\") # max_features=None => all 76 columns are considered when looking for the best split\n",
    "clf_dt.fit(x_train,y_train)\n",
    "predicted_train = clf_dt.predict(x_train)"
   ]
  },
  {
   "cell_type": "code",
   "execution_count": 103,
   "metadata": {
    "collapsed": true,
    "jupyter": {
     "outputs_hidden": true
    }
   },
   "outputs": [
    {
     "name": "stdout",
     "output_type": "stream",
     "text": [
      "The score for the DT model  1.0\n",
      "[[7254    0]\n",
      " [   0  869]]\n",
      "The F1-SCORE on the train set prediction  1.0\n"
     ]
    },
    {
     "data": {
      "image/png": "[encoded data removed]",
      "text/plain": [
       "<Figure size 432x288 with 1 Axes>"
      ]
     },
     "metadata": {
      "needs_background": "light"
     },
     "output_type": "display_data"
    }
   ],
   "source": [
    "# Evaluating the train set for decision tree classifier\n",
    "plot_roc_curve(clf_dt,X =x_train, y= y_train, marker='.')\n",
    "print ('The score for the DT model ', roc_auc_score(y_train,predicted_train))\n",
    "print(confusion_matrix(y_true = y_train, y_pred = predicted_train))\n",
    "print ('The F1-SCORE on the train set prediction ',f1_score(y_true=y_train,y_pred = predicted_train,sample_weight = y_train))"
   ]
  },
  {
   "cell_type": "code",
   "execution_count": 104,
   "metadata": {
    "collapsed": true,
    "jupyter": {
     "outputs_hidden": true
    }
   },
   "outputs": [
    {
     "name": "stdout",
     "output_type": "stream",
     "text": [
      "[[1752   62]\n",
      " [  48  169]]\n",
      "The F1-SCORE on the test set prediction  0.8756476683937823\n"
     ]
    },
    {
     "data": {
      "image/png": "[encoded data removed]",
      "text/plain": [
       "<Figure size 432x288 with 1 Axes>"
      ]
     },
     "metadata": {
      "needs_background": "light"
     },
     "output_type": "display_data"
    }
   ],
   "source": [
    "# Evaluating the test set\n",
    "plot_roc_curve(clf_dt,X =x_test, y= y_test)\n",
    "predicted_test = clf_dt.predict(x_test)\n",
    "print (confusion_matrix(y_true = y_test, y_pred = predicted_test))\n",
    "print ('The F1-SCORE on the test set prediction ',f1_score(y_true=y_test,y_pred = predicted_test,sample_weight = y_test))\n",
    "\n",
    "# INSIGHTS\n",
    "# Decision trees are prone to overfitting."
   ]
  },
  {
   "cell_type": "code",
   "execution_count": 105,
   "metadata": {},
   "outputs": [
    {
     "name": "stdout",
     "output_type": "stream",
     "text": [
      "Train Accuracy: 1.000\n",
      "Test Accuracy: 0.946\n"
     ]
    }
   ],
   "source": [
    "print(f\"Train Accuracy: {clf_dt.score(x_train,y_train):.3f}\")\n",
    "print(f\"Test Accuracy: { clf_dt.score(x_test,y_test):.3f}\" )\n",
    "\n",
    "#INSIGHTS\n",
    "# There is overfitting of data, as train scores are very good and test scores are comparitively lesser."
   ]
  },
  {
   "cell_type": "markdown",
   "metadata": {},
   "source": [
    "#### Hyperparameter tuning of decision tree classifier"
   ]
  },
  {
   "cell_type": "code",
   "execution_count": 106,
   "metadata": {},
   "outputs": [
    {
     "name": "stdout",
     "output_type": "stream",
     "text": [
      "DecisionTreeClassifier(class_weight='balanced', criterion='entropy',\n",
      "                       max_depth=13, min_samples_leaf=2, min_samples_split=7)\n",
      "0.752004766787525\n"
     ]
    }
   ],
   "source": [
    "params={'criterion':['entropy','gini'],\n",
    "        'max_depth':[11,12,13],\n",
    "          'min_samples_leaf':[2,3,4,5],\n",
    "       'min_samples_split':[5,6,7,8,9,10]}\n",
    "\n",
    "# Fitting GridSearchCV to find the best combination of hyper parameters\n",
    "# GridSearchCV produces the best combination of parameters, based on a scoring metric - f1 in this case\n",
    "grid_search = GridSearchCV(estimator = clf_dt, param_grid = params, cv = 5, scoring = 'f1')\n",
    "grid_search.fit(x_train, y_train)\n",
    "\n",
    "print(grid_search.best_estimator_) # best combination of parameters\n",
    "print(grid_search.best_score_) # best F1-score"
   ]
  },
  {
   "cell_type": "code",
   "execution_count": 107,
   "metadata": {},
   "outputs": [
    {
     "data": {
      "text/plain": [
       "DecisionTreeClassifier(class_weight='balanced', criterion='entropy',\n",
       "                       max_depth=13, min_samples_leaf=2, min_samples_split=7)"
      ]
     },
     "execution_count": 107,
     "metadata": {},
     "output_type": "execute_result"
    }
   ],
   "source": [
    "# Fitting on the training dataset \n",
    "clf_dt = grid_search.best_estimator_\n",
    "clf_dt.fit(x_train,y_train)"
   ]
  },
  {
   "cell_type": "code",
   "execution_count": 108,
   "metadata": {
    "collapsed": true,
    "jupyter": {
     "outputs_hidden": true
    }
   },
   "outputs": [
    {
     "name": "stdout",
     "output_type": "stream",
     "text": [
      "The score for the DT model  1.0\n",
      "[[7254    0]\n",
      " [   0  869]]\n",
      "The F1-SCORE on the train set prediction  1.0\n"
     ]
    },
    {
     "data": {
      "image/png": "[encoded data removed]",
      "text/plain": [
       "<Figure size 432x288 with 1 Axes>"
      ]
     },
     "metadata": {
      "needs_background": "light"
     },
     "output_type": "display_data"
    }
   ],
   "source": [
    "# Evaluating the train set for decision tree classifier\n",
    "\n",
    "plot_roc_curve(clf_dt,X =x_train, y= y_train, marker='.')\n",
    "print ('The score for the DT model ', roc_auc_score(y_train,predicted_train))\n",
    "print(confusion_matrix(y_true                        = y_train, y_pred = predicted_train))\n",
    "print ('The F1-SCORE on the train set prediction ',f1_score(y_true=y_train,y_pred = predicted_train,sample_weight = y_train))"
   ]
  },
  {
   "cell_type": "code",
   "execution_count": 109,
   "metadata": {},
   "outputs": [
    {
     "name": "stdout",
     "output_type": "stream",
     "text": [
      "[[1716   98]\n",
      " [  30  187]]\n",
      "The F1-SCORE on the test set prediction  0.9257425742574258\n"
     ]
    },
    {
     "data": {
      "image/png": "[encoded data removed]",
      "text/plain": [
       "<Figure size 432x288 with 1 Axes>"
      ]
     },
     "metadata": {
      "needs_background": "light"
     },
     "output_type": "display_data"
    }
   ],
   "source": [
    "# Evaluating the test set for decision tree classifier\n",
    "plot_roc_curve(clf_dt,X =x_test, y= y_test)\n",
    "predicted_test = clf_dt.predict(x_test)\n",
    "print (confusion_matrix(y_true = y_test, y_pred = predicted_test))\n",
    "print ('The F1-SCORE on the test set prediction ',f1_score(y_true=y_test,y_pred = predicted_test,sample_weight = y_test))"
   ]
  },
  {
   "cell_type": "code",
   "execution_count": 110,
   "metadata": {},
   "outputs": [
    {
     "name": "stdout",
     "output_type": "stream",
     "text": [
      "Train Accuracy: 0.984\n",
      "Test Accuracy: 0.937\n"
     ]
    }
   ],
   "source": [
    "print(f\"Train Accuracy: {clf_dt.score(x_train,y_train):.3f}\")\n",
    "print(f\"Test Accuracy: { clf_dt.score(x_test,y_test):.3f}\" )\n",
    "\n",
    "#INSIGHTS\n",
    "# There is less overfitting now after hyperparameter tuning\n",
    "# Test AUC score has also improved after hyperparameter tuning"
   ]
  },
  {
   "cell_type": "code",
   "execution_count": 111,
   "metadata": {},
   "outputs": [],
   "source": [
    "# Looking at the feature importances \n",
    "importances = clf_dt.feature_importances_  # Gini importance for each feature\n",
    "columns = list(x_train.columns)\n",
    "importances_dict = {columns[i]: importances[i] for i in range(len(columns))}"
   ]
  },
  {
   "cell_type": "code",
   "execution_count": 112,
   "metadata": {
    "collapsed": true,
    "jupyter": {
     "outputs_hidden": true
    }
   },
   "outputs": [
    {
     "data": {
      "text/plain": [
       "[('Online Purchase Amount', 0.2616114427278233),\n",
       " ('Investment Tax Saving Bond', 0.167699868207184),\n",
       " ('Investment in Commudity', 0.16114762888802933),\n",
       " ('Life Insurance', 0.08222060036672148),\n",
       " ('Average Credit Card Transaction', 0.0635546464889445),\n",
       " ('Average A/C Balance', 0.05021296277536975),\n",
       " ('Personal Loan', 0.04963342557125202),\n",
       " ('Term Deposit', 0.04202112558853888),\n",
       " ('Investment in Derivative', 0.01978670435247343),\n",
       " ('Medical Insurance', 0.018532308556699774),\n",
       " ('Investment in Mutual Fund', 0.014636506733963394),\n",
       " ('Balance Transfer', 0.013605620575442259),\n",
       " ('Investment in Equity', 0.010581931739390968),\n",
       " ('Home Loan', 0.00877898215086983),\n",
       " ('year_last_moved', 0.007492214574500698),\n",
       " ('Portfolio Balance', 0.006021988795870965),\n",
       " ('region_Unknown', 0.0032688260456289384),\n",
       " ('occupation_Manual Worker', 0.0022617415337134925),\n",
       " ('occupation_Professional', 0.0017900570941886491),\n",
       " ('chidren_3+', 0.0016434329945947995),\n",
       " ('occupation_Secretarial/Admin', 0.0012809651790555308),\n",
       " ('status_Single/Never Married', 0.0011536716616098249),\n",
       " ('self_employed_Yes', 0.0010972897938696926),\n",
       " ('region_North West', 0.0010729739911000027),\n",
       " ('income_<27,500, >=25,000', 0.0010697060350053336),\n",
       " ('income_<17,500, >=15,000', 0.0009147869451466354),\n",
       " ('age_band_51-55', 0.0008270240422061575),\n",
       " ('occupation_Other', 0.00080715530874562),\n",
       " ('age_band_45-50', 0.0008051920588697522),\n",
       " ('gender_Male', 0.0007659067874343732),\n",
       " ('occupation_partner_Other', 0.0007367843256609283),\n",
       " ('occupation_partner_Manual Worker', 0.0007220464776248295),\n",
       " ('income_<20,000, >=17,500', 0.0006204615779642902),\n",
       " ('region_South East', 0.0006045159216977203),\n",
       " ('region_North', 0.00041644762158755516),\n",
       " ('chidren_Zero', 0.0003152250882384211),\n",
       " ('chidren_2', 0.0002878314229828126),\n",
       " ('self_employed_partner_Yes', 4.822524712340326e-17),\n",
       " ('income_<30,000, >=27,500', 3.679561058533353e-17),\n",
       " ('age_band_26-30', 3.188569629785304e-17),\n",
       " ('region_South West', 2.3112242898912875e-18),\n",
       " ('age_band_22-25', 0.0),\n",
       " ('age_band_31-35', 0.0),\n",
       " ('age_band_36-40', 0.0),\n",
       " ('age_band_41-45', 0.0),\n",
       " ('age_band_55-60', 0.0),\n",
       " ('age_band_61-65', 0.0),\n",
       " ('age_band_65-70', 0.0),\n",
       " ('age_band_71+', 0.0),\n",
       " ('age_band_Unknown', 0.0),\n",
       " ('status_Partner', 0.0),\n",
       " ('status_Unknown', 0.0),\n",
       " ('status_Widowed', 0.0),\n",
       " ('occupation_Housewife', 0.0),\n",
       " ('occupation_Retired', 0.0),\n",
       " ('occupation_Student', 0.0),\n",
       " ('occupation_Unknown', 0.0),\n",
       " ('occupation_partner_Housewife', 0.0),\n",
       " ('occupation_partner_Professional', 0.0),\n",
       " ('occupation_partner_Retired', 0.0),\n",
       " ('occupation_partner_Secretarial/Admin', 0.0),\n",
       " ('occupation_partner_Student', 0.0),\n",
       " ('occupation_partner_Unknown', 0.0),\n",
       " ('home_status_Own Home', 0.0),\n",
       " ('home_status_Rent Privately', 0.0),\n",
       " ('home_status_Rent from Council/HA', 0.0),\n",
       " ('home_status_Unclassified', 0.0),\n",
       " ('income_< 8,000, >= 4,000', 0.0),\n",
       " ('income_<10,000, >= 8,000', 0.0),\n",
       " ('income_<12,500, >=10,000', 0.0),\n",
       " ('income_<15,000, >=12,500', 0.0),\n",
       " ('income_<22,500, >=20,000', 0.0),\n",
       " ('income_<25,000, >=22,500', 0.0),\n",
       " ('income_>=35,000', 0.0),\n",
       " ('income_Unknown', 0.0),\n",
       " ('gender_Unknown', 0.0),\n",
       " ('region_East Anglia', 0.0),\n",
       " ('region_East Midlands', 0.0),\n",
       " ('region_Isle of Man', 0.0),\n",
       " ('region_Northern Ireland', 0.0),\n",
       " ('region_Scotland', 0.0),\n",
       " ('region_Wales', 0.0),\n",
       " ('region_West Midlands', 0.0)]"
      ]
     },
     "execution_count": 112,
     "metadata": {},
     "output_type": "execute_result"
    }
   ],
   "source": [
    "# sorted function returns a list containing all items (as each tuple in the list) from the importances_dict in the descending order\n",
    "sorted(importances_dict.items(), key=lambda importances_dict: importances_dict[1],reverse=True)"
   ]
  },
  {
   "cell_type": "markdown",
   "metadata": {},
   "source": [
    "### Trying with a Random Forest model"
   ]
  },
  {
   "cell_type": "code",
   "execution_count": 113,
   "metadata": {},
   "outputs": [
    {
     "name": "stdout",
     "output_type": "stream",
     "text": [
      "Time taken in grid search:  1231.27\n",
      "RandomForestClassifier(class_weight='balanced', criterion='entropy',\n",
      "                       max_depth=6)\n",
      "0.6538944099624372\n"
     ]
    }
   ],
   "source": [
    "# Fitting a Random Forest model\n",
    "\n",
    "start = time.time() # just to see how much time GridSearchCV is taking\n",
    " \n",
    "clf = RandomForestClassifier()\n",
    "params={'n_estimators':[100,200,500,600],\n",
    "        'class_weight':['balanced'], \n",
    "        'criterion':['entropy','gini'],\n",
    "         'max_features' : [\"auto\", \"sqrt\", \"log2\"],\n",
    "        'max_depth':[3,4,5,6]}\n",
    "\n",
    "# Fitting grid search cv to find the best combination of hyper parameters \n",
    "grid_search = GridSearchCV(estimator = clf,param_grid = params,cv = 5,scoring = 'f1')\n",
    "grid_search.fit(x_train, y_train)\n",
    "\n",
    "end = time.time()\n",
    "print('Time taken in grid search: {0: .2f}'.format(end - start))\n",
    "\n",
    "print(grid_search.best_estimator_) # best combination of hyper parameters \n",
    "print(grid_search.best_score_) # best F!-score\n",
    "\n",
    "best_params = grid_search.best_estimator_"
   ]
  },
  {
   "cell_type": "code",
   "execution_count": 114,
   "metadata": {
    "collapsed": true,
    "jupyter": {
     "outputs_hidden": true
    }
   },
   "outputs": [
    {
     "name": "stdout",
     "output_type": "stream",
     "text": [
      "The score for the RF model  0.9296797639998946\n",
      "[[6551  703]\n",
      " [  38  831]]\n",
      "The F1-SCORE on the train set prediction  0.9776470588235294\n"
     ]
    },
    {
     "data": {
      "image/png": "[encoded data removed]",
      "text/plain": [
       "<Figure size 432x288 with 1 Axes>"
      ]
     },
     "metadata": {
      "needs_background": "light"
     },
     "output_type": "display_data"
    }
   ],
   "source": [
    "clf = best_params\n",
    "clf.fit(x_train, y_train)\n",
    "\n",
    "# Evaluating on the train set\n",
    "predicted_train = clf.predict(x_train)\n",
    "plot_roc_curve(clf,X =x_train, y= y_train)\n",
    "\n",
    "print ('The score for the RF model ', roc_auc_score(y_train,predicted_train))\n",
    "print(confusion_matrix(y_true = y_train, y_pred = predicted_train))\n",
    "print ('The F1-SCORE on the train set prediction ',f1_score(y_true=y_train, y_pred = predicted_train,sample_weight = y_train))"
   ]
  },
  {
   "cell_type": "code",
   "execution_count": 115,
   "metadata": {
    "collapsed": true,
    "jupyter": {
     "outputs_hidden": true
    }
   },
   "outputs": [
    {
     "name": "stdout",
     "output_type": "stream",
     "text": [
      "[[1597  217]\n",
      " [  17  200]]\n",
      "The F1-SCORE on the test set prediction 0.959\n"
     ]
    },
    {
     "data": {
      "image/png": "[encoded data removed]",
      "text/plain": [
       "<Figure size 432x288 with 1 Axes>"
      ]
     },
     "metadata": {
      "needs_background": "light"
     },
     "output_type": "display_data"
    }
   ],
   "source": [
    "# Evaluating on the test set\n",
    "plot_roc_curve(clf,X =x_test, y= y_test)\n",
    "predicted_test = clf.predict(x_test)\n",
    "\n",
    "print (confusion_matrix(y_true = y_test, y_pred = predicted_test))\n",
    "print ('The F1-SCORE on the test set prediction', \n",
    "       round(f1_score(y_true=y_test,y_pred = predicted_test,sample_weight = y_test),3))"
   ]
  },
  {
   "cell_type": "code",
   "execution_count": 116,
   "metadata": {},
   "outputs": [
    {
     "name": "stdout",
     "output_type": "stream",
     "text": [
      "Train Accuracy: 0.909\n",
      "Test Accuracy: 0.885\n"
     ]
    }
   ],
   "source": [
    "print(f\"Train Accuracy: {clf.score(x_train,y_train):.3f}\")\n",
    "print(f\"Test Accuracy: { clf.score(x_test,y_test):.3f}\" )"
   ]
  },
  {
   "cell_type": "code",
   "execution_count": 117,
   "metadata": {
    "collapsed": true,
    "jupyter": {
     "outputs_hidden": true
    }
   },
   "outputs": [
    {
     "data": {
      "text/plain": [
       "{'Online Purchase Amount': 0.25139526900603426,\n",
       " 'Investment in Equity': 0.1304109743187519,\n",
       " 'Investment in Commudity': 0.09637944142304315,\n",
       " 'Investment Tax Saving Bond': 0.08837329709819823,\n",
       " 'Average Credit Card Transaction': 0.08281991204173872,\n",
       " 'Portfolio Balance': 0.06721351170508386,\n",
       " 'Life Insurance': 0.06614327893883937,\n",
       " 'Investment in Derivative': 0.04540029481119734,\n",
       " 'Personal Loan': 0.034167879799188325,\n",
       " 'Investment in Mutual Fund': 0.021131360134839735,\n",
       " 'Term Deposit': 0.020853647774855773,\n",
       " 'Balance Transfer': 0.01822908447706254,\n",
       " 'Average A/C Balance': 0.014914371635303502,\n",
       " 'Medical Insurance': 0.01381010030207758,\n",
       " 'Home Loan': 0.008240845708046837,\n",
       " 'year_last_moved': 0.00639015454866689,\n",
       " 'region_North West': 0.0014938480313022523,\n",
       " 'income_<27,500, >=25,000': 0.0011931995553541015,\n",
       " 'gender_Male': 0.001053202991607428,\n",
       " 'occupation_Other': 0.0010329937725120017,\n",
       " 'income_>=35,000': 0.0009479018925148872,\n",
       " 'self_employed_Yes': 0.0009083961155807351,\n",
       " 'occupation_Professional': 0.0008916359919365868,\n",
       " 'region_Scotland': 0.0008490989738419946,\n",
       " 'status_Widowed': 0.0008038684215444178,\n",
       " 'age_band_26-30': 0.0008026901330722253,\n",
       " 'self_employed_partner_Yes': 0.0007695390939356097,\n",
       " 'status_Partner': 0.0007536433399297098,\n",
       " 'region_West Midlands': 0.0007374513621942427,\n",
       " 'occupation_Secretarial/Admin': 0.0007142788514320327,\n",
       " 'age_band_51-55': 0.0006540843284399523,\n",
       " 'occupation_partner_Unknown': 0.0006271327337156753,\n",
       " 'region_South West': 0.0006213089189326219,\n",
       " 'region_South East': 0.0006177749167761901,\n",
       " 'region_North': 0.0006058703563704986,\n",
       " 'occupation_partner_Other': 0.000602512685610273,\n",
       " 'occupation_partner_Manual Worker': 0.0005998503935006227,\n",
       " 'occupation_Housewife': 0.0005995178458887799,\n",
       " 'occupation_Retired': 0.0005780047576662267,\n",
       " 'occupation_partner_Secretarial/Admin': 0.0005592852434984694,\n",
       " 'income_<15,000, >=12,500': 0.0005579686516129932,\n",
       " 'occupation_partner_Professional': 0.0005317206209958296,\n",
       " 'status_Single/Never Married': 0.0005275703010032574,\n",
       " 'age_band_45-50': 0.0005226083296915872,\n",
       " 'chidren_3+': 0.0005071849002844542,\n",
       " 'occupation_partner_Housewife': 0.0005031276297370933,\n",
       " 'age_band_22-25': 0.000495734079579357,\n",
       " 'age_band_41-45': 0.00048653987110461956,\n",
       " 'chidren_Zero': 0.0004787380967943035,\n",
       " 'age_band_65-70': 0.0004768959057318419,\n",
       " 'age_band_31-35': 0.0004739771900471226,\n",
       " 'income_<30,000, >=27,500': 0.0004578963448735808,\n",
       " 'region_Wales': 0.0004557151797297745,\n",
       " 'chidren_2': 0.0004548284480152237,\n",
       " 'region_East Midlands': 0.0004522969874418092,\n",
       " 'income_<10,000, >= 8,000': 0.0004502240683697178,\n",
       " 'occupation_Unknown': 0.0004395372355790175,\n",
       " 'home_status_Own Home': 0.0004200375175300517,\n",
       " 'income_<12,500, >=10,000': 0.00041729413345955967,\n",
       " 'age_band_71+': 0.0004120565481775863,\n",
       " 'age_band_61-65': 0.00038281316676862053,\n",
       " 'income_< 8,000, >= 4,000': 0.0003734122078857661,\n",
       " 'age_band_55-60': 0.0003732869294290113,\n",
       " 'income_<17,500, >=15,000': 0.00036093785821898506,\n",
       " 'income_Unknown': 0.00033346506346083676,\n",
       " 'income_<25,000, >=22,500': 0.00032919065778319405,\n",
       " 'region_Northern Ireland': 0.00032206697393207217,\n",
       " 'occupation_Manual Worker': 0.0003191812931903943,\n",
       " 'occupation_partner_Retired': 0.0003163011031003986,\n",
       " 'region_East Anglia': 0.00031179224881110635,\n",
       " 'age_band_36-40': 0.0003034371246826975,\n",
       " 'occupation_Student': 0.00028237513511466416,\n",
       " 'region_Unknown': 0.00028142239836087573,\n",
       " 'income_<22,500, >=20,000': 0.0002625963478996558,\n",
       " 'home_status_Rent Privately': 0.00019376395025440382,\n",
       " 'home_status_Rent from Council/HA': 0.00014320903757264526,\n",
       " 'gender_Unknown': 0.0001390759504029063,\n",
       " 'income_<20,000, >=17,500': 0.00013663657973739178,\n",
       " 'occupation_partner_Student': 9.837857527553104e-05,\n",
       " 'home_status_Unclassified': 9.284024512842302e-05,\n",
       " 'age_band_Unknown': 8.781895417834969e-05,\n",
       " 'status_Unknown': 8.137744021408973e-05,\n",
       " 'region_Isle of Man': 6.215428875358806e-05}"
      ]
     },
     "execution_count": 117,
     "metadata": {},
     "output_type": "execute_result"
    }
   ],
   "source": [
    "# Looking at the feature importances \n",
    "importances = clf.feature_importances_  # Gini importance for each feature\n",
    "importances_dict = {columns[i]: importances[i] for i in range(len(columns))}\n",
    "\n",
    "# sorted function returns a list containing all items from the importances_dict in the descending order\n",
    "importances_dict = dict(sorted(importances_dict.items(), key=lambda importances_dict: importances_dict[1],reverse=True))\n",
    "importances_dict"
   ]
  },
  {
   "cell_type": "markdown",
   "metadata": {},
   "source": [
    "## Model Comparison"
   ]
  },
  {
   "cell_type": "markdown",
   "metadata": {},
   "source": [
    "|metrics | Logistic Regression | Decision Tree | Random Forest |\n",
    "| --- | --- | --- | --- |\n",
    "| Test Accuracy | 0.904 | 0.937 | 0.885 |\n",
    "| Test AUC | 0.96 | 0.91 | 0.96 |\n",
    "| F1-SCORE | 0.95 | 0.925 | 0.96 |"
   ]
  },
  {
   "cell_type": "code",
   "execution_count": null,
   "metadata": {},
   "outputs": [],
   "source": [
    "# based on the business understanding, which metric/s are more important can be decided and model (and parameters) \n",
    "# can be chosen accordingly."
   ]
  }
 ],
 "metadata": {
  "kernelspec": {
   "display_name": "Python 3",
   "language": "python",
   "name": "python3"
  },
  "language_info": {
   "codemirror_mode": {
    "name": "ipython",
    "version": 3
   },
   "file_extension": ".py",
   "mimetype": "text/x-python",
   "name": "python",
   "nbconvert_exporter": "python",
   "pygments_lexer": "ipython3",
   "version": "3.8.5"
  }
 },
 "nbformat": 4,
 "nbformat_minor": 4
}
